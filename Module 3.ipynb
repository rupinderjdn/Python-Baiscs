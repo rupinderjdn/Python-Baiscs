{
 "cells": [
  {
   "cell_type": "markdown",
   "id": "d00f8edc",
   "metadata": {},
   "source": [
    "# Dictionaries"
   ]
  },
  {
   "cell_type": "markdown",
   "id": "cf50aa88",
   "metadata": {},
   "source": [
    "### 2) CREATING A DICTIONARY"
   ]
  },
  {
   "cell_type": "code",
   "execution_count": 1,
   "id": "3cd75743",
   "metadata": {},
   "outputs": [
    {
     "name": "stdout",
     "output_type": "stream",
     "text": [
      "<class 'dict'>\n"
     ]
    }
   ],
   "source": [
    "dic={} \n",
    "print(type(dic))"
   ]
  },
  {
   "cell_type": "code",
   "execution_count": 2,
   "id": "6ac42deb",
   "metadata": {},
   "outputs": [
    {
     "name": "stdout",
     "output_type": "stream",
     "text": [
      "{'A': ['Ikusei']}\n"
     ]
    }
   ],
   "source": [
    "dic={}\n",
    "dic['A']=['Ikusei'] \n",
    "print(dic)"
   ]
  },
  {
   "cell_type": "code",
   "execution_count": 3,
   "id": "986e19c6",
   "metadata": {},
   "outputs": [
    {
     "name": "stdout",
     "output_type": "stream",
     "text": [
      "{'A': 'ikusei', 'B': 'welcomes', 'C': 'you'}\n"
     ]
    }
   ],
   "source": [
    "dic={'A':\"ikusei\",'B':'welcomes','C':\"you\"} \n",
    "print(dic)"
   ]
  },
  {
   "cell_type": "code",
   "execution_count": 4,
   "id": "3c6367c4",
   "metadata": {},
   "outputs": [
    {
     "name": "stdout",
     "output_type": "stream",
     "text": [
      "{1: 'Ace', 'B': 123, None: 99.9, 'D': None, 'E': 'Ikusei'}\n"
     ]
    }
   ],
   "source": [
    "dic_b = {1: 'Ace', 'B': 123, None: 99.9, 'D': None, 'E': \"Ikusei\"} \n",
    "print(dic_b)"
   ]
  },
  {
   "cell_type": "markdown",
   "id": "0ab59335",
   "metadata": {},
   "source": [
    "### 3) ACCESSING DICTIONARY ELEMENTS\n"
   ]
  },
  {
   "cell_type": "code",
   "execution_count": 5,
   "id": "53a0bfe3",
   "metadata": {},
   "outputs": [
    {
     "name": "stdout",
     "output_type": "stream",
     "text": [
      "dict_keys([1, 'B', None, 'D', 'E'])\n",
      "dict_values(['Ace', 123, 99.9, None, 'Ikusei'])\n",
      "dict_items([(1, 'Ace'), ('B', 123), (None, 99.9), ('D', None), ('E', 'Ikusei')])\n"
     ]
    }
   ],
   "source": [
    "dic_b = {1: 'Ace', 'B': 123, None: 99.9, 'D': None, 'E': \"Ikusei\"} \n",
    "print(dic_b.keys())\n",
    "print(dic_b.values())\n",
    "print(dic_b.items())"
   ]
  },
  {
   "cell_type": "code",
   "execution_count": 6,
   "id": "171bf802",
   "metadata": {},
   "outputs": [
    {
     "name": "stdout",
     "output_type": "stream",
     "text": [
      "A B C \n",
      "\n",
      "Ikusei welcomes you \n",
      "\n",
      "A Ikusei B welcomes C you "
     ]
    }
   ],
   "source": [
    "dic={'A':'Ikusei','B':'welcomes','C':'you'}\n",
    "for key in dic.keys():\n",
    "    print(key,end=\" \") \n",
    "print(\"\\n\")\n",
    "\n",
    "for value in dic.values(): \n",
    "    print(value,end=\" \") \n",
    "print(\"\\n\")\n",
    "for key , value in dic.items(): \n",
    "    print(key,value,end=\" \")"
   ]
  },
  {
   "cell_type": "code",
   "execution_count": 7,
   "id": "7e52037e",
   "metadata": {},
   "outputs": [
    {
     "name": "stdout",
     "output_type": "stream",
     "text": [
      "Ikusei\n",
      "you\n"
     ]
    }
   ],
   "source": [
    "dic={'A': 'Ikusei','B': 'welcomes','C': 'you'} \n",
    "print(dic['A']) \n",
    "print(dic['C'])\n",
    "#print(dic['D'])-> This line returns an error"
   ]
  },
  {
   "cell_type": "code",
   "execution_count": 8,
   "id": "daf9286d",
   "metadata": {},
   "outputs": [
    {
     "name": "stdout",
     "output_type": "stream",
     "text": [
      "Ikusei\n",
      "None\n"
     ]
    }
   ],
   "source": [
    "dic={'A':'Ikusei', 'B':'welcomes','C':'you'} \n",
    "print(dic.get('A')) \n",
    "print(dic.get('Z'))"
   ]
  },
  {
   "cell_type": "code",
   "execution_count": 9,
   "id": "72d1f293",
   "metadata": {},
   "outputs": [
    {
     "name": "stdout",
     "output_type": "stream",
     "text": [
      "Ikusei\n",
      "welcomes\n",
      "you\n"
     ]
    }
   ],
   "source": [
    "dic={'A':'Ikusei','B':'welcomes','C':'you'} \n",
    "print(list(dic.values())[0]) \n",
    "print(list(dic.values())[1]) \n",
    "print(list(dic.values())[2])"
   ]
  },
  {
   "cell_type": "markdown",
   "id": "5abf741b",
   "metadata": {},
   "source": [
    "### 4) REMOVING DICTIONARY ELEMENTS\n"
   ]
  },
  {
   "cell_type": "code",
   "execution_count": 10,
   "id": "9e0749e3",
   "metadata": {},
   "outputs": [
    {
     "name": "stdout",
     "output_type": "stream",
     "text": [
      "{'A': 'Ikusei', 'B': 'welcomes', 'C': 'you'}\n",
      "{'B': 'welcomes', 'C': 'you'}\n",
      "{'C': 'you'}\n"
     ]
    }
   ],
   "source": [
    "dic={'A':'Ikusei','B':'welcomes','C':'you'} \n",
    "print(dic)\n",
    "del dic['A']\n",
    "print(dic)\n",
    "dic.pop('B')\n",
    "print(dic)"
   ]
  },
  {
   "cell_type": "code",
   "execution_count": 11,
   "id": "42c6b4fc",
   "metadata": {},
   "outputs": [
    {
     "name": "stdout",
     "output_type": "stream",
     "text": [
      "{'A': 'Ikusei', 'B': 'welcomes', 'C': 'you'}\n",
      "Key {\"Z\"} does not exist.\n",
      "{'A': 'Ikusei', 'B': 'welcomes', 'C': 'you'}\n"
     ]
    }
   ],
   "source": [
    "dic={'A':'Ikusei','B':'welcomes','C':'you'} \n",
    "print(dic)\n",
    "print(dic.pop('Z', 'Key {\"Z\"} does not exist.')) \n",
    "print(dic)"
   ]
  },
  {
   "cell_type": "code",
   "execution_count": 12,
   "id": "8693428e",
   "metadata": {},
   "outputs": [
    {
     "name": "stdout",
     "output_type": "stream",
     "text": [
      "{'A': 'Ikusei', 'B': 'welcomes', 'C': 'you'}\n",
      "{}\n"
     ]
    }
   ],
   "source": [
    "dic={'A':'Ikusei','B':'welcomes','C':'you'} \n",
    "print(dic)\n",
    "dic.clear() \n",
    "print(dic)"
   ]
  },
  {
   "cell_type": "markdown",
   "id": "342fac92",
   "metadata": {},
   "source": [
    "### 5) ADDING/INSERTING NEW ELEMENTS\n"
   ]
  },
  {
   "cell_type": "code",
   "execution_count": 13,
   "id": "f2813012",
   "metadata": {},
   "outputs": [
    {
     "name": "stdout",
     "output_type": "stream",
     "text": [
      "Ikusei\n",
      "welcomes\n",
      "you\n",
      "to\n",
      "family\n"
     ]
    }
   ],
   "source": [
    "dic={'A':'Ikusei','B':'welcomes','C':'you'} \n",
    "dic['D']='to'\n",
    "dic['E']='family'\n",
    "for value in dic.values():\n",
    "    print(value)"
   ]
  },
  {
   "cell_type": "code",
   "execution_count": 14,
   "id": "d29f5aca",
   "metadata": {},
   "outputs": [
    {
     "name": "stdout",
     "output_type": "stream",
     "text": [
      "Ikusei\n",
      "welcomes\n",
      "you\n",
      "to\n",
      "family\n"
     ]
    }
   ],
   "source": [
    "dic={'A':'Ikusei','B':'welcomes','C':'you'} \n",
    "dic.update({'D':'to'}) \n",
    "dic.update({'E':'family'})\n",
    "for value in dic.values():\n",
    "    print(value)"
   ]
  },
  {
   "cell_type": "markdown",
   "id": "5111550d",
   "metadata": {},
   "source": [
    "### 6) MERGING/CONCATENATING DICTIONARIES\n"
   ]
  },
  {
   "cell_type": "code",
   "execution_count": 15,
   "id": "56dde619",
   "metadata": {},
   "outputs": [
    {
     "name": "stdout",
     "output_type": "stream",
     "text": [
      "{'P': ' python', 'J ': 'Java', 'R': ' Raspberry', 'C': 'C'}\n"
     ]
    }
   ],
   "source": [
    "dic_a={'P':' python' , 'J ':'Java'} \n",
    "dic_b={ 'R':' Raspberry' ,'C':'C'} \n",
    "dic_merged={**dic_a,**dic_b} \n",
    "print(dic_merged)"
   ]
  },
  {
   "cell_type": "code",
   "execution_count": 16,
   "id": "2677a7a5",
   "metadata": {},
   "outputs": [
    {
     "name": "stdout",
     "output_type": "stream",
     "text": [
      "{'P': ' python', 'J ': 'Java', 'R': ' Raspberry', 'C': 'C'}\n"
     ]
    }
   ],
   "source": [
    "dic_a={'P':'python','J':'Java'} \n",
    "dic_a.update(dic_b) \n",
    "print(dic_merged)"
   ]
  },
  {
   "cell_type": "code",
   "execution_count": 17,
   "id": "261139f3",
   "metadata": {},
   "outputs": [
    {
     "name": "stdout",
     "output_type": "stream",
     "text": [
      "{'P': 'python 3.5', ' 3': 'Java ', 'C': 'C++'}\n"
     ]
    }
   ],
   "source": [
    "dic_a={'P':'python', ' 3':'Java '} \n",
    "dic_b={'C':'C','P':'print'}\n",
    "dic_c={'P':'python 3.5','C':'C++'} \n",
    "dic_merged={**dic_a,**dic_b,**dic_c} \n",
    "print(dic_merged)"
   ]
  },
  {
   "cell_type": "markdown",
   "id": "799387e1",
   "metadata": {},
   "source": [
    "### 7) MODIFYING A DICTIONARY\n"
   ]
  },
  {
   "cell_type": "code",
   "execution_count": 18,
   "id": "b1084e7c",
   "metadata": {},
   "outputs": [
    {
     "name": "stdout",
     "output_type": "stream",
     "text": [
      "{'P': 'python 3.5', 'J': '3ava'}\n"
     ]
    }
   ],
   "source": [
    "dic_a={'P':'python' , 'J':'3ava'} \n",
    "dic_a['P']='python 3.5' \n",
    "print(dic_a)"
   ]
  },
  {
   "cell_type": "markdown",
   "id": "1a17756d",
   "metadata": {},
   "source": [
    "### 8) DICTIONARY COMPREHENSION\n"
   ]
  },
  {
   "cell_type": "code",
   "execution_count": 24,
   "id": "3bd7203a",
   "metadata": {},
   "outputs": [
    {
     "name": "stdout",
     "output_type": "stream",
     "text": [
      "{0: 0, 1: 1, 2: 4, 3: 9, 4: 16, 5: 25, 6: 36, 7: 49, 8: 64, 9: 81}\n",
      "{0: 0, 2: 4, 4: 16, 6: 36, 8: 64}\n"
     ]
    }
   ],
   "source": [
    "dic_a={i:i**2 for i in range(10)} \n",
    "print(dic_a)\n",
    "dic_b={i:i**2 for i in range(10) if i%2==0} \n",
    "print(dic_b)"
   ]
  },
  {
   "cell_type": "markdown",
   "id": "de1528eb",
   "metadata": {},
   "source": [
    "### 9) ALTERNATIVE WAYS TO CREATE DICTIONARIES"
   ]
  },
  {
   "cell_type": "code",
   "execution_count": 25,
   "id": "f428134f",
   "metadata": {},
   "outputs": [
    {
     "name": "stdout",
     "output_type": "stream",
     "text": [
      "{'rahul': 60, 'rohan': 70, 'mohneesh': 90}\n"
     ]
    }
   ],
   "source": [
    "names=[\"rahul\",\"rohan\",\"mohneesh\"]\n",
    "marks=[60,70,90]\n",
    "dic_grades=dict(zip(names,marks))\n",
    "print(dic_grades)"
   ]
  },
  {
   "cell_type": "code",
   "execution_count": 22,
   "id": "8702cf36",
   "metadata": {},
   "outputs": [
    {
     "name": "stdout",
     "output_type": "stream",
     "text": [
      "{'rahul': 60, 'rohan': 70, 'mohneesh': 90}\n"
     ]
    }
   ],
   "source": [
    "names=[\"rahul\",\"rohan\",\"mohneesh\"]\n",
    "marks=[60,70,90]\n",
    "dic_grades={k:v for k,v in zip(names,marks)} \n",
    "print(dic_grades)"
   ]
  },
  {
   "cell_type": "code",
   "execution_count": 23,
   "id": "a0cd205f",
   "metadata": {},
   "outputs": [
    {
     "name": "stdout",
     "output_type": "stream",
     "text": [
      "{'Rohan’,60),(’Rahul': 70, 'Mohneesh': 90}\n"
     ]
    }
   ],
   "source": [
    "dic_grades=dict([('Rohan’,60),(’Rahul',70),('Mohneesh',90)]) \n",
    "print(dic_grades)"
   ]
  },
  {
   "cell_type": "markdown",
   "id": "0c41a444",
   "metadata": {},
   "source": [
    "### 10) COPYING A DICTIONARY\n"
   ]
  },
  {
   "cell_type": "code",
   "execution_count": 26,
   "id": "173c5909",
   "metadata": {},
   "outputs": [
    {
     "name": "stdout",
     "output_type": "stream",
     "text": [
      "{'Rohan': 60, 'Rahul': 70, 'Mohneesh': 90}\n",
      "{'Rohan': 60, 'Rahul': 70, 'Mohneesh': 90}\n",
      "{'Rohan': 60, 'Rahul': 70, 'Mohneesh': 90, 'Shubham': 40}\n",
      "{'Rohan': 60, 'Rahul': 70, 'Mohneesh': 90, 'Shubham': 40}\n"
     ]
    }
   ],
   "source": [
    "dic_a=dict([('Rohan',60),('Rahul',70),('Mohneesh',90)]) \n",
    "dic_b=dic_a\n",
    "print(dic_a)\n",
    "print(dic_b)\n",
    "dic_b['Shubham']=40\n",
    "print(dic_a)\n",
    "print(dic_b)"
   ]
  },
  {
   "cell_type": "code",
   "execution_count": 27,
   "id": "2778284c",
   "metadata": {},
   "outputs": [
    {
     "name": "stdout",
     "output_type": "stream",
     "text": [
      "Address of die a :  0x13cac7bcfc0\n",
      "Address of die b :  0x13cac7bcfc0\n"
     ]
    }
   ],
   "source": [
    "dic_a=dict([('Rohan',60),('Rahul',70),('Mohneesh',90)]) \n",
    "dic_b=dic_a\n",
    "dic_b['Shubham']=40\n",
    "print(\"Address of die a : \",hex(id(dic_a))) \n",
    "print(\"Address of die b : \",hex(id(dic_b)))"
   ]
  },
  {
   "cell_type": "markdown",
   "id": "ab4adf78",
   "metadata": {},
   "source": [
    "##### Shallow Copy"
   ]
  },
  {
   "cell_type": "code",
   "execution_count": 28,
   "id": "cbbdb759",
   "metadata": {},
   "outputs": [
    {
     "name": "stdout",
     "output_type": "stream",
     "text": [
      "{'Rohan': 60, 'Rahul': 70, 'Mohneesh': 90}\n",
      "{'Rohan': 60, 'Rahul': 70, 'Mohneesh': 90, 'Shubham': 40}\n",
      " \n",
      "Address of die a :  0x13cac713f80\n",
      "Address of die b :  0x13cac7e3080\n"
     ]
    }
   ],
   "source": [
    "dic_a=dict([('Rohan',60),('Rahul',70),('Mohneesh',90)]) \n",
    "dic_b=dic_a.copy()\n",
    "dic_b['Shubham']=40\n",
    "print(dic_a)\n",
    "print(dic_b)\n",
    "print(\" \")\n",
    "print(\"Address of die a : \",hex(id(dic_a))) \n",
    "print(\"Address of die b : \",hex(id(dic_b)))"
   ]
  },
  {
   "cell_type": "code",
   "execution_count": 30,
   "id": "22a5e0bc",
   "metadata": {},
   "outputs": [
    {
     "name": "stdout",
     "output_type": "stream",
     "text": [
      "{'Rohan': 60, 'Rahul': 70, 'Mohneesh': 90}\n",
      "{'Rohan': 40, 'Rahul': 70, 'Mohneesh': 90}\n"
     ]
    }
   ],
   "source": [
    "dic_a=dict([('Rohan',60),('Rahul',70),('Mohneesh',90)]) \n",
    "dic_b=dic_a.copy() \n",
    "dic_b['Rohan']=40\n",
    "print(dic_a)\n",
    "print(dic_b)"
   ]
  },
  {
   "cell_type": "code",
   "execution_count": 31,
   "id": "8ae1052c",
   "metadata": {},
   "outputs": [
    {
     "name": "stdout",
     "output_type": "stream",
     "text": [
      "{'Rohan': [40], 'rahul': 70, 'mohneesh': 90}\n",
      "{'Rohan': [40], 'rahul': 70, 'mohneesh': 90}\n"
     ]
    }
   ],
   "source": [
    "dic_a={'Rohan':[60],\"rahul\":70,\"mohneesh\":90} \n",
    "dic_b=dic_a.copy()\n",
    "dic_b['Rohan'][0]=40\n",
    "print(dic_a)\n",
    "print(dic_b)"
   ]
  },
  {
   "cell_type": "markdown",
   "id": "aa7be1e3",
   "metadata": {},
   "source": [
    "### 11) RENAMING EXISTING KEYS\n"
   ]
  },
  {
   "cell_type": "code",
   "execution_count": 32,
   "id": "49706ef2",
   "metadata": {},
   "outputs": [
    {
     "name": "stdout",
     "output_type": "stream",
     "text": [
      "{'rahul': 70, 'mohneesh': 90, 'Rishabh': 60}\n"
     ]
    }
   ],
   "source": [
    "dic_a={'Rohan':60,\"rahul\":70,\"mohneesh\":90} \n",
    "dic_a['Rishabh']=dic_a.pop('Rohan') \n",
    "print(dic_a)"
   ]
  },
  {
   "cell_type": "markdown",
   "id": "cce915f8",
   "metadata": {},
   "source": [
    "### 12) NESTED DICTIONARIES\n"
   ]
  },
  {
   "cell_type": "code",
   "execution_count": 33,
   "id": "42640246",
   "metadata": {},
   "outputs": [
    {
     "name": "stdout",
     "output_type": "stream",
     "text": [
      "{'rahul': 70, 'mohneesh': 90}\n"
     ]
    }
   ],
   "source": [
    "dic_a={'Rohan':{\"rahul\":70,\"mohneesh\":90}} \n",
    "print(dic_a['Rohan'])"
   ]
  },
  {
   "cell_type": "code",
   "execution_count": 34,
   "id": "5efd0eb1",
   "metadata": {},
   "outputs": [
    {
     "name": "stdout",
     "output_type": "stream",
     "text": [
      "70\n"
     ]
    }
   ],
   "source": [
    "dic_a={'Rohan':{\"rahul\":70,\"mohneesh\":90}}\n",
    "print(dic_a['Rohan']['rahul'])"
   ]
  },
  {
   "cell_type": "code",
   "execution_count": 36,
   "id": "80a2127b",
   "metadata": {},
   "outputs": [
    {
     "name": "stdout",
     "output_type": "stream",
     "text": [
      "{'rahul': {'mohneesh': 90}}\n",
      "{'mohneesh': 90}\n",
      "90\n"
     ]
    }
   ],
   "source": [
    "dic_a={'Rohan':{\"rahul\":{\"mohneesh\":90}}} \n",
    "print(dic_a['Rohan'])\n",
    "print(dic_a['Rohan']['rahul']) \n",
    "print(dic_a['Rohan']['rahul']['mohneesh'])"
   ]
  },
  {
   "cell_type": "markdown",
   "id": "f0eeab3e",
   "metadata": {},
   "source": [
    "### 13) CHECKING IF A KEY EXISTS IN A DICTIONARY"
   ]
  },
  {
   "cell_type": "code",
   "execution_count": 37,
   "id": "f51f72e1",
   "metadata": {},
   "outputs": [
    {
     "name": "stdout",
     "output_type": "stream",
     "text": [
      "True\n",
      "False\n"
     ]
    }
   ],
   "source": [
    "dic_a={'Rohan':60,\"rahul\":70,\"mohneesh\":90} \n",
    "print('Rohan' in dic_a) \n",
    "print('Rajat' in dic_a)"
   ]
  },
  {
   "cell_type": "markdown",
   "id": "6421c08d",
   "metadata": {},
   "source": [
    "# FUNCTIONS"
   ]
  },
  {
   "cell_type": "markdown",
   "id": "4669a9e8",
   "metadata": {},
   "source": [
    "### 1) DEFINING A FUNCTION AND RETURNING VALUES\n"
   ]
  },
  {
   "cell_type": "code",
   "execution_count": 40,
   "id": "0a7ffb6a",
   "metadata": {},
   "outputs": [
    {
     "name": "stdout",
     "output_type": "stream",
     "text": [
      "Ikusei Welcomes you Rajat \n"
     ]
    }
   ],
   "source": [
    "def print_name(name):\n",
    "    print(\"Ikusei Welcomes you {} \".format(name)) \n",
    "print_name(\"Rajat\")"
   ]
  },
  {
   "cell_type": "code",
   "execution_count": 45,
   "id": "15dbce8d",
   "metadata": {},
   "outputs": [
    {
     "name": "stdout",
     "output_type": "stream",
     "text": [
      "Ikusei welcomes you to the amazing journey of learning new technologies \n"
     ]
    }
   ],
   "source": [
    "stml=\"Ikusei welcomes you\"\n",
    "stm2=\" to the amazing \"\n",
    "stm3=\"journey of learning new technologies \"\n",
    "stm_list=[stml,stm2,stm3]\n",
    "def combined_stm(statement_list):\n",
    "    return \"\".join(statement_list)\n",
    "print(combined_stm(stm_list))"
   ]
  },
  {
   "cell_type": "code",
   "execution_count": 46,
   "id": "972090b7",
   "metadata": {},
   "outputs": [
    {
     "name": "stdout",
     "output_type": "stream",
     "text": [
      "Rajat Ikusei welcomes you to the amazing journey of learning new technologies \n"
     ]
    }
   ],
   "source": [
    "stml=\"Ikusei welcomes you\"\n",
    "stm2=\" to the amazing \"\n",
    "stm3=\"journey of learning new technologies \"\n",
    "stm_list=[stml,stm2,stm3]\n",
    "def combined_stm(statement_list,name):\n",
    "    print(name,end=\" \")\n",
    "    return \"\".join(statement_list)\n",
    "\n",
    "print(combined_stm(stm_list,\"Rajat\"))"
   ]
  },
  {
   "cell_type": "markdown",
   "id": "9f8eae75",
   "metadata": {},
   "source": [
    "### 3) PASSING ARGUMENTS\n"
   ]
  },
  {
   "cell_type": "code",
   "execution_count": 48,
   "id": "37d848ab",
   "metadata": {},
   "outputs": [
    {
     "name": "stdout",
     "output_type": "stream",
     "text": [
      "1 2 3 rajat 4\n",
      "1 2 3 something mon\n",
      "1 2 3 something rajat\n"
     ]
    }
   ],
   "source": [
    "def show(a,b,c,d=\"something\",e=\"mon\"): \n",
    "         print(a,b,c,d,e)\n",
    "show(1,2,3,\"rajat\",4) \n",
    "show(1,2,3)\n",
    "show(1,2,3,e=\"rajat\")"
   ]
  },
  {
   "cell_type": "code",
   "execution_count": 50,
   "id": "67031590",
   "metadata": {},
   "outputs": [
    {
     "name": "stdout",
     "output_type": "stream",
     "text": [
      "('rajat', 4)\n",
      "<class 'tuple'>\n"
     ]
    }
   ],
   "source": [
    "def show(a,b,c,*args): \n",
    "    print(args) \n",
    "    print(type(args)) \n",
    "show(1,2,3,\"rajat\",4)"
   ]
  },
  {
   "cell_type": "code",
   "execution_count": 55,
   "id": "ab9817ae",
   "metadata": {},
   "outputs": [
    {
     "name": "stdout",
     "output_type": "stream",
     "text": [
      "1 ('rajat',) 100 20\n",
      "1 ('rajat', 4) 10 20\n"
     ]
    }
   ],
   "source": [
    "def show(a,b,c,*args,d=10,e=20): \n",
    "    print(a,args,d,e)\n",
    "    \n",
    "show(1,2,3,\"rajat\",d=100) \n",
    "show(1,2,3,\"rajat\",4)"
   ]
  },
  {
   "cell_type": "markdown",
   "id": "dcddfea7",
   "metadata": {},
   "source": [
    "### 4) SCOPE OF VARIABLES\n"
   ]
  },
  {
   "cell_type": "code",
   "execution_count": 57,
   "id": "4c9e7e76",
   "metadata": {},
   "outputs": [
    {
     "name": "stdout",
     "output_type": "stream",
     "text": [
      "15\n",
      "10\n"
     ]
    }
   ],
   "source": [
    "x=10 # GLobai variabLe \n",
    "def show():\n",
    "    x=15 # Local. variabLe \n",
    "    print(x)\n",
    "\n",
    "show()\n",
    "print(x)"
   ]
  },
  {
   "cell_type": "code",
   "execution_count": null,
   "id": "7ff4e3fe",
   "metadata": {},
   "outputs": [],
   "source": [
    "x=10 # GLobaL variabLe\n",
    "def show():global x Xdefining gLobaL variabLe in the function\n",
    "x+=5\n",
    "print(x)\n",
    "show() print(x)"
   ]
  },
  {
   "cell_type": "code",
   "execution_count": null,
   "id": "578d36a2",
   "metadata": {},
   "outputs": [],
   "source": []
  },
  {
   "cell_type": "code",
   "execution_count": null,
   "id": "5bec49f5",
   "metadata": {},
   "outputs": [],
   "source": []
  },
  {
   "cell_type": "code",
   "execution_count": null,
   "id": "28f95fa3",
   "metadata": {},
   "outputs": [],
   "source": [
    "###"
   ]
  },
  {
   "cell_type": "code",
   "execution_count": null,
   "id": "921b859b",
   "metadata": {},
   "outputs": [],
   "source": [
    "###"
   ]
  },
  {
   "cell_type": "code",
   "execution_count": null,
   "id": "0ac2e746",
   "metadata": {},
   "outputs": [],
   "source": [
    "###"
   ]
  }
 ],
 "metadata": {
  "kernelspec": {
   "display_name": "Python 3 (ipykernel)",
   "language": "python",
   "name": "python3"
  },
  "language_info": {
   "codemirror_mode": {
    "name": "ipython",
    "version": 3
   },
   "file_extension": ".py",
   "mimetype": "text/x-python",
   "name": "python",
   "nbconvert_exporter": "python",
   "pygments_lexer": "ipython3",
   "version": "3.9.6"
  }
 },
 "nbformat": 4,
 "nbformat_minor": 5
}
