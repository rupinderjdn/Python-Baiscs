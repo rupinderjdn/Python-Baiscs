{
 "cells": [
  {
   "cell_type": "markdown",
   "id": "17d3829c",
   "metadata": {},
   "source": [
    "# OBJECT ORIENTED PROGRAMMING"
   ]
  },
  {
   "cell_type": "markdown",
   "id": "55997f86",
   "metadata": {},
   "source": [
    "### 2) CREATING CLASSES AND OBJECTS\n"
   ]
  },
  {
   "cell_type": "code",
   "execution_count": 1,
   "id": "7a803d3d",
   "metadata": {},
   "outputs": [
    {
     "name": "stdout",
     "output_type": "stream",
     "text": [
      "<class 'int'>\n"
     ]
    }
   ],
   "source": [
    "a=10\n",
    "print(type(a))"
   ]
  },
  {
   "cell_type": "markdown",
   "id": "9d0ca40a",
   "metadata": {},
   "source": [
    "### 3) USER-DEFINED CLASSES"
   ]
  },
  {
   "cell_type": "code",
   "execution_count": 2,
   "id": "292df18f",
   "metadata": {},
   "outputs": [],
   "source": [
    "class Student:\n",
    "    pass"
   ]
  },
  {
   "cell_type": "code",
   "execution_count": 3,
   "id": "74d89ab7",
   "metadata": {},
   "outputs": [
    {
     "name": "stdout",
     "output_type": "stream",
     "text": [
      "<class '__main__.Student'>\n"
     ]
    }
   ],
   "source": [
    "class Student: \n",
    "    pass \n",
    "sl=Student() \n",
    "s2=Student() \n",
    "print(type(sl))"
   ]
  },
  {
   "cell_type": "markdown",
   "id": "4e78793b",
   "metadata": {},
   "source": [
    "### 4) ATTRIBUTES \n"
   ]
  },
  {
   "cell_type": "markdown",
   "id": "4c69c6db",
   "metadata": {},
   "source": [
    "#### 1) INSTANCE ATTRIBUTES"
   ]
  },
  {
   "cell_type": "code",
   "execution_count": 4,
   "id": "a2df27b5",
   "metadata": {},
   "outputs": [],
   "source": [
    "class Student: \n",
    "    pass \n",
    "sl=Student() \n",
    "s2=Student() \n",
    "s3=Student()"
   ]
  },
  {
   "cell_type": "code",
   "execution_count": 5,
   "id": "5a8684eb",
   "metadata": {},
   "outputs": [],
   "source": [
    "sl.name=\"Rajat\"\n",
    "sl.age=20\n",
    "s2.roll_number=101\n",
    "s3.age=21"
   ]
  },
  {
   "cell_type": "code",
   "execution_count": 7,
   "id": "e091eb9f",
   "metadata": {},
   "outputs": [
    {
     "name": "stdout",
     "output_type": "stream",
     "text": [
      "{'name': 'Rajat', 'age': 20}\n",
      "{'roll_number': 101}\n",
      "{'age': 21}\n"
     ]
    }
   ],
   "source": [
    "print (sl.__dict__)\n",
    "print (s2.__dict__)\n",
    "print (s3.__dict__)"
   ]
  },
  {
   "cell_type": "markdown",
   "id": "1bac72f3",
   "metadata": {},
   "source": [
    "#### 2) To access the values of the attributes"
   ]
  },
  {
   "cell_type": "code",
   "execution_count": 8,
   "id": "f96a04aa",
   "metadata": {},
   "outputs": [
    {
     "name": "stdout",
     "output_type": "stream",
     "text": [
      "Rajat\n",
      "20\n",
      "101\n",
      "21\n"
     ]
    },
    {
     "ename": "AttributeError",
     "evalue": "'Student' object has no attribute 'name'",
     "output_type": "error",
     "traceback": [
      "\u001b[1;31m---------------------------------------------------------------------------\u001b[0m",
      "\u001b[1;31mAttributeError\u001b[0m                            Traceback (most recent call last)",
      "\u001b[1;32mC:\\Users\\SYSTEM~1\\AppData\\Local\\Temp/ipykernel_3168/2649262285.py\u001b[0m in \u001b[0;36m<module>\u001b[1;34m\u001b[0m\n\u001b[0;32m      3\u001b[0m \u001b[0mprint\u001b[0m\u001b[1;33m(\u001b[0m\u001b[0ms2\u001b[0m\u001b[1;33m.\u001b[0m\u001b[0mroll_number\u001b[0m\u001b[1;33m)\u001b[0m\u001b[1;33m\u001b[0m\u001b[1;33m\u001b[0m\u001b[0m\n\u001b[0;32m      4\u001b[0m \u001b[0mprint\u001b[0m\u001b[1;33m(\u001b[0m\u001b[0ms3\u001b[0m\u001b[1;33m.\u001b[0m\u001b[0mage\u001b[0m\u001b[1;33m)\u001b[0m\u001b[1;33m\u001b[0m\u001b[1;33m\u001b[0m\u001b[0m\n\u001b[1;32m----> 5\u001b[1;33m \u001b[0mprint\u001b[0m\u001b[1;33m(\u001b[0m\u001b[0ms2\u001b[0m\u001b[1;33m.\u001b[0m\u001b[0mname\u001b[0m\u001b[1;33m)\u001b[0m\u001b[1;33m\u001b[0m\u001b[1;33m\u001b[0m\u001b[0m\n\u001b[0m",
      "\u001b[1;31mAttributeError\u001b[0m: 'Student' object has no attribute 'name'"
     ]
    }
   ],
   "source": [
    "print(sl.name) \n",
    "print(sl.age) \n",
    "print(s2.roll_number) \n",
    "print(s3.age)\n",
    "#print(s2.name)-> Error"
   ]
  },
  {
   "cell_type": "markdown",
   "id": "9990904c",
   "metadata": {},
   "source": [
    "#### 3) Methods used on instance objects\n"
   ]
  },
  {
   "cell_type": "code",
   "execution_count": 10,
   "id": "adfb2fa5",
   "metadata": {},
   "outputs": [
    {
     "name": "stdout",
     "output_type": "stream",
     "text": [
      "True\n",
      "None\n",
      "None\n",
      "Mohit\n",
      "Attribute absent\n"
     ]
    }
   ],
   "source": [
    "print(hasattr(sl,\"name\")) \n",
    "print(setattr(s2,\"name\",\"Mohit\")) \n",
    "print(delattr(sl,\"name\")) \n",
    "print(getattr(s2,\"name\",\"Attribute absent\")) \n",
    "print(getattr(sl,\"name\",\"Attribute absent\"))"
   ]
  },
  {
   "cell_type": "markdown",
   "id": "ac04ec23",
   "metadata": {},
   "source": [
    "#### 4) Class Attributes"
   ]
  },
  {
   "cell_type": "code",
   "execution_count": 11,
   "id": "446cc8de",
   "metadata": {},
   "outputs": [
    {
     "name": "stdout",
     "output_type": "stream",
     "text": [
      "{'__module__': '__main__', '__dict__': <attribute '__dict__' of 'Student' objects>, '__weakref__': <attribute '__weakref__' of 'Student' objects>, '__doc__': None}\n"
     ]
    }
   ],
   "source": [
    "class Student:\n",
    "    pass\n",
    "print(Student.__dict__)"
   ]
  },
  {
   "cell_type": "code",
   "execution_count": 13,
   "id": "480e3e0c",
   "metadata": {},
   "outputs": [
    {
     "name": "stdout",
     "output_type": "stream",
     "text": [
      "20\n",
      "{}\n"
     ]
    }
   ],
   "source": [
    "class Student: \n",
    "    total_students=20 \n",
    "    class_teacher_name=\"Archana\"\n",
    "s1=Student()\n",
    "print(s1.total_students) \n",
    "print(s1.__dict__)"
   ]
  },
  {
   "cell_type": "code",
   "execution_count": 14,
   "id": "8240801c",
   "metadata": {},
   "outputs": [
    {
     "name": "stdout",
     "output_type": "stream",
     "text": [
      "30\n",
      "30\n"
     ]
    }
   ],
   "source": [
    "class Student: \n",
    "    total_students=20 \n",
    "    class_teacher_name=\"Archana\"\n",
    "s1=Student()\n",
    "s2=Student()\n",
    "Student.total_students=30 \n",
    "print(s1.total_students) \n",
    "print(s2.total_students)"
   ]
  },
  {
   "cell_type": "code",
   "execution_count": 16,
   "id": "2c65c0c4",
   "metadata": {},
   "outputs": [
    {
     "name": "stdout",
     "output_type": "stream",
     "text": [
      "30\n",
      "20\n",
      "{'total_students': 30}\n"
     ]
    }
   ],
   "source": [
    "class Student: \n",
    "    total_students=20 \n",
    "    class_teacher_name=\"Archana\"\n",
    "s1=Student()\n",
    "s2=Student() \n",
    "s1.total_students=30  \n",
    "print(s1.total_students) \n",
    "print(s2.total_students)\n",
    "\n",
    "print(s1.__dict__)"
   ]
  },
  {
   "cell_type": "markdown",
   "id": "5121dbc1",
   "metadata": {},
   "source": [
    "### 5) METHODS\n"
   ]
  },
  {
   "cell_type": "code",
   "execution_count": 22,
   "id": "252c48b8",
   "metadata": {},
   "outputs": [
    {
     "name": "stdout",
     "output_type": "stream",
     "text": [
      "Hello\n"
     ]
    }
   ],
   "source": [
    "class Student:\n",
    "    def print_hello(): \n",
    "        print(\"Hello\") \n",
    "sl=Student() \n",
    "Student.print_hello()#-> No object is passing as an argument "
   ]
  },
  {
   "cell_type": "code",
   "execution_count": 17,
   "id": "31b8335e",
   "metadata": {},
   "outputs": [
    {
     "ename": "TypeError",
     "evalue": "print_hello() takes 0 positional arguments but 1 was given",
     "output_type": "error",
     "traceback": [
      "\u001b[1;31m---------------------------------------------------------------------------\u001b[0m",
      "\u001b[1;31mTypeError\u001b[0m                                 Traceback (most recent call last)",
      "\u001b[1;32mC:\\Users\\SYSTEM~1\\AppData\\Local\\Temp/ipykernel_3168/874257553.py\u001b[0m in \u001b[0;36m<module>\u001b[1;34m\u001b[0m\n\u001b[0;32m      3\u001b[0m         \u001b[0mprint\u001b[0m\u001b[1;33m(\u001b[0m\u001b[1;34m\"Hello\"\u001b[0m\u001b[1;33m)\u001b[0m\u001b[1;33m\u001b[0m\u001b[1;33m\u001b[0m\u001b[0m\n\u001b[0;32m      4\u001b[0m \u001b[0msl\u001b[0m\u001b[1;33m=\u001b[0m\u001b[0mStudent\u001b[0m\u001b[1;33m(\u001b[0m\u001b[1;33m)\u001b[0m\u001b[1;33m\u001b[0m\u001b[1;33m\u001b[0m\u001b[0m\n\u001b[1;32m----> 5\u001b[1;33m \u001b[0msl\u001b[0m\u001b[1;33m.\u001b[0m\u001b[0mprint_hello\u001b[0m\u001b[1;33m(\u001b[0m\u001b[1;33m)\u001b[0m\u001b[1;33m\u001b[0m\u001b[1;33m\u001b[0m\u001b[0m\n\u001b[0m",
      "\u001b[1;31mTypeError\u001b[0m: print_hello() takes 0 positional arguments but 1 was given"
     ]
    }
   ],
   "source": [
    "class Student:\n",
    "    def print_hello(): \n",
    "        print(\"Hello\") \n",
    "sl=Student() \n",
    "#sl.print_hello()-> Error because an object is passing as an argument \n",
    "                    #and in the function there is no one to collect it "
   ]
  },
  {
   "cell_type": "code",
   "execution_count": 19,
   "id": "b147a90d",
   "metadata": {},
   "outputs": [
    {
     "name": "stdout",
     "output_type": "stream",
     "text": [
      "Hello\n"
     ]
    }
   ],
   "source": [
    "class Student:\n",
    "    def print_hello(self): \n",
    "        print(\"Hello\") \n",
    "sl=Student() \n",
    "sl.print_hello()"
   ]
  },
  {
   "cell_type": "code",
   "execution_count": 21,
   "id": "7afe1c9c",
   "metadata": {},
   "outputs": [
    {
     "name": "stdout",
     "output_type": "stream",
     "text": [
      "Hello\n",
      "Hello\n"
     ]
    }
   ],
   "source": [
    "class Student:\n",
    "    def print_hello(self): \n",
    "        print(\"Hello\") \n",
    "sl=Student() \n",
    "sl.print_hello()\n",
    "Student.print_hello(sl)"
   ]
  },
  {
   "cell_type": "markdown",
   "id": "9514b452",
   "metadata": {},
   "source": [
    "#### 1) Local Variables"
   ]
  },
  {
   "cell_type": "code",
   "execution_count": 23,
   "id": "6db1fb88",
   "metadata": {},
   "outputs": [
    {
     "name": "stdout",
     "output_type": "stream",
     "text": [
      "Rajat\n"
     ]
    }
   ],
   "source": [
    "class Student:\n",
    "    def print_name(self): \n",
    "        print(self.name)\n",
    "sl=Student() \n",
    "sl.name=\"Rajat\" \n",
    "sl.print_name()"
   ]
  },
  {
   "cell_type": "code",
   "execution_count": 24,
   "id": "03d5a96d",
   "metadata": {},
   "outputs": [
    {
     "name": "stdout",
     "output_type": "stream",
     "text": [
      "hello\n"
     ]
    },
    {
     "ename": "NameError",
     "evalue": "name 'name' is not defined",
     "output_type": "error",
     "traceback": [
      "\u001b[1;31m---------------------------------------------------------------------------\u001b[0m",
      "\u001b[1;31mNameError\u001b[0m                                 Traceback (most recent call last)",
      "\u001b[1;32mC:\\Users\\SYSTEM~1\\AppData\\Local\\Temp/ipykernel_3168/3747994006.py\u001b[0m in \u001b[0;36m<module>\u001b[1;34m\u001b[0m\n\u001b[0;32m      6\u001b[0m \u001b[0msl\u001b[0m\u001b[1;33m=\u001b[0m\u001b[0mStudent\u001b[0m\u001b[1;33m(\u001b[0m\u001b[1;33m)\u001b[0m\u001b[1;33m\u001b[0m\u001b[1;33m\u001b[0m\u001b[0m\n\u001b[0;32m      7\u001b[0m \u001b[0msl\u001b[0m\u001b[1;33m.\u001b[0m\u001b[0mname\u001b[0m\u001b[1;33m=\u001b[0m\u001b[1;34m\"Rajat\"\u001b[0m\u001b[1;33m\u001b[0m\u001b[1;33m\u001b[0m\u001b[0m\n\u001b[1;32m----> 8\u001b[1;33m \u001b[0msl\u001b[0m\u001b[1;33m.\u001b[0m\u001b[0mprint_name\u001b[0m\u001b[1;33m(\u001b[0m\u001b[1;33m)\u001b[0m\u001b[1;33m\u001b[0m\u001b[1;33m\u001b[0m\u001b[0m\n\u001b[0m",
      "\u001b[1;32mC:\\Users\\SYSTEM~1\\AppData\\Local\\Temp/ipykernel_3168/3747994006.py\u001b[0m in \u001b[0;36mprint_name\u001b[1;34m(self)\u001b[0m\n\u001b[0;32m      3\u001b[0m         \u001b[0mstring\u001b[0m\u001b[1;33m=\u001b[0m\u001b[1;34m\"hello\"\u001b[0m\u001b[1;33m\u001b[0m\u001b[1;33m\u001b[0m\u001b[0m\n\u001b[0;32m      4\u001b[0m         \u001b[0mprint\u001b[0m\u001b[1;33m(\u001b[0m\u001b[0mstring\u001b[0m\u001b[1;33m)\u001b[0m\u001b[1;33m\u001b[0m\u001b[1;33m\u001b[0m\u001b[0m\n\u001b[1;32m----> 5\u001b[1;33m         \u001b[0mprint\u001b[0m\u001b[1;33m(\u001b[0m\u001b[0mname\u001b[0m\u001b[1;33m)\u001b[0m\u001b[1;33m\u001b[0m\u001b[1;33m\u001b[0m\u001b[0m\n\u001b[0m\u001b[0;32m      6\u001b[0m \u001b[0msl\u001b[0m\u001b[1;33m=\u001b[0m\u001b[0mStudent\u001b[0m\u001b[1;33m(\u001b[0m\u001b[1;33m)\u001b[0m\u001b[1;33m\u001b[0m\u001b[1;33m\u001b[0m\u001b[0m\n\u001b[0;32m      7\u001b[0m \u001b[0msl\u001b[0m\u001b[1;33m.\u001b[0m\u001b[0mname\u001b[0m\u001b[1;33m=\u001b[0m\u001b[1;34m\"Rajat\"\u001b[0m\u001b[1;33m\u001b[0m\u001b[1;33m\u001b[0m\u001b[0m\n",
      "\u001b[1;31mNameError\u001b[0m: name 'name' is not defined"
     ]
    }
   ],
   "source": [
    "class Student:\n",
    "    def print_name(self): \n",
    "        string=\"hello\"\n",
    "        print(string)\n",
    "        #print(name)-> cannot print variables which are not local like this\n",
    "sl=Student() \n",
    "sl.name=\"Rajat\" \n",
    "sl.print_name()"
   ]
  },
  {
   "cell_type": "markdown",
   "id": "712d98e7",
   "metadata": {},
   "source": [
    "#### 2) Creating new instance attribute\n"
   ]
  },
  {
   "cell_type": "code",
   "execution_count": 25,
   "id": "a18c0454",
   "metadata": {},
   "outputs": [
    {
     "name": "stdout",
     "output_type": "stream",
     "text": [
      "Rajat Vivek\n"
     ]
    }
   ],
   "source": [
    "class Student:\n",
    "    def add_name(self,name): \n",
    "        self.name=name \n",
    "s1=Student()\n",
    "s2=Student()\n",
    "s1.add_name(\"Rajat\")\n",
    "s2.add_name(\"Vivek\")\n",
    "print(s1.name,s2.name)"
   ]
  },
  {
   "cell_type": "code",
   "execution_count": 27,
   "id": "f073d7d4",
   "metadata": {},
   "outputs": [
    {
     "name": "stdout",
     "output_type": "stream",
     "text": [
      "100\n"
     ]
    }
   ],
   "source": [
    "class Student:\n",
    "    total_students=100 \n",
    "    def add_name(self,name): \n",
    "        self.name=name\n",
    "    def test(self): \n",
    "        print(Student.total_students) \n",
    "s1=Student()\n",
    "s1.test()"
   ]
  },
  {
   "cell_type": "markdown",
   "id": "2c5cdad9",
   "metadata": {},
   "source": [
    "### 6) CONSTRUCTORS\n"
   ]
  },
  {
   "cell_type": "code",
   "execution_count": 31,
   "id": "6b682e21",
   "metadata": {},
   "outputs": [
    {
     "name": "stdout",
     "output_type": "stream",
     "text": [
      "Constructor is called \n",
      "Constructor is called \n"
     ]
    }
   ],
   "source": [
    "class Car:\n",
    "    def __init__(self):\n",
    "        print(\"Constructor is called \")\n",
    "        \n",
    "c1=Car()\n",
    "c2=Car()"
   ]
  },
  {
   "cell_type": "markdown",
   "id": "868db85b",
   "metadata": {},
   "source": [
    "#### 1) Using parametrized constructor"
   ]
  },
  {
   "cell_type": "code",
   "execution_count": 32,
   "id": "0639d876",
   "metadata": {},
   "outputs": [],
   "source": [
    "class Car:\n",
    "    def __init__(self,name,mileage):\n",
    "        self.name=name\n",
    "        self.mileage=mileage\n",
    "        \n",
    "c1=Car(\"Toyota\",30)\n",
    "c2=Car(\"Honda\",40)"
   ]
  },
  {
   "cell_type": "code",
   "execution_count": 33,
   "id": "e7cd3fb8",
   "metadata": {},
   "outputs": [],
   "source": [
    "class Car:\n",
    "    def __init__(self,name,*args):\n",
    "        self.name=name \n",
    "        self.mileage=args[0] \n",
    "        self.model=args[1]\n",
    "cl=Car(\"Toyota\",30,\"Innova\") \n",
    "c2=Car(\"Honda\",35,\"City\")"
   ]
  },
  {
   "cell_type": "code",
   "execution_count": 34,
   "id": "a6f16c05",
   "metadata": {},
   "outputs": [
    {
     "name": "stdout",
     "output_type": "stream",
     "text": [
      "Toyota 30 Innova\n",
      "Honda 35 City\n"
     ]
    }
   ],
   "source": [
    "print(cl.name,cl.mileage,cl.model)\n",
    "print(c2.name,c2.mileage,c2.model)"
   ]
  },
  {
   "cell_type": "markdown",
   "id": "8dddc0c3",
   "metadata": {},
   "source": [
    "#### Creating private variables"
   ]
  },
  {
   "cell_type": "code",
   "execution_count": 42,
   "id": "6d462652",
   "metadata": {},
   "outputs": [],
   "source": [
    "class Car:\n",
    "    def __init__(self,name):\n",
    "        self.__name=name\n",
    "c1=Car(\"Toyota\")\n",
    "c2=Car(\"Honda\")"
   ]
  },
  {
   "cell_type": "code",
   "execution_count": 43,
   "id": "4709822d",
   "metadata": {},
   "outputs": [
    {
     "ename": "AttributeError",
     "evalue": "'Car' object has no attribute 'name'",
     "output_type": "error",
     "traceback": [
      "\u001b[1;31m---------------------------------------------------------------------------\u001b[0m",
      "\u001b[1;31mAttributeError\u001b[0m                            Traceback (most recent call last)",
      "\u001b[1;32mC:\\Users\\SYSTEM~1\\AppData\\Local\\Temp/ipykernel_3168/4270172323.py\u001b[0m in \u001b[0;36m<module>\u001b[1;34m\u001b[0m\n\u001b[1;32m----> 1\u001b[1;33m \u001b[0mprint\u001b[0m\u001b[1;33m(\u001b[0m\u001b[0mc1\u001b[0m\u001b[1;33m.\u001b[0m\u001b[0mname\u001b[0m\u001b[1;33m)\u001b[0m\u001b[1;33m\u001b[0m\u001b[1;33m\u001b[0m\u001b[0m\n\u001b[0m",
      "\u001b[1;31mAttributeError\u001b[0m: 'Car' object has no attribute 'name'"
     ]
    }
   ],
   "source": [
    "#print(c1.name) -> as the name variable is now private we can no longer access them outside class"
   ]
  },
  {
   "cell_type": "markdown",
   "id": "129331e6",
   "metadata": {},
   "source": [
    "#### Getters and setters"
   ]
  },
  {
   "cell_type": "code",
   "execution_count": 50,
   "id": "a1ea0a60",
   "metadata": {},
   "outputs": [],
   "source": [
    "class Car:\n",
    "    def __init__(self,name):\n",
    "        self.__name=name\n",
    "    def getname(self): \n",
    "        return self.__name\n",
    "c1=Car(\"Toyota\")\n",
    "c2=Car(\"Honda\")"
   ]
  },
  {
   "cell_type": "code",
   "execution_count": 51,
   "id": "5d78e02e",
   "metadata": {},
   "outputs": [
    {
     "name": "stdout",
     "output_type": "stream",
     "text": [
      "Toyota\n"
     ]
    }
   ],
   "source": [
    "print(c1.getname())"
   ]
  },
  {
   "cell_type": "markdown",
   "id": "b5e13f3e",
   "metadata": {},
   "source": [
    "#### Use of private class"
   ]
  },
  {
   "cell_type": "code",
   "execution_count": 54,
   "id": "f210d967",
   "metadata": {},
   "outputs": [],
   "source": [
    "class Car:\n",
    "    def __init__(self,name):\n",
    "        self.__name=name\n",
    "    def getname(self,password): \n",
    "        if(password!=\"123\"): \n",
    "            return\n",
    "        return self.__name\n",
    "c1=Car(\"Toyota\") \n",
    "c2=Car(\"Honda\")"
   ]
  },
  {
   "cell_type": "code",
   "execution_count": 55,
   "id": "e39115a0",
   "metadata": {},
   "outputs": [
    {
     "name": "stdout",
     "output_type": "stream",
     "text": [
      "None\n",
      "Toyota\n"
     ]
    }
   ],
   "source": [
    "print(c1.getname('1234'))\n",
    "print(c1.getname('123'))"
   ]
  },
  {
   "cell_type": "code",
   "execution_count": 59,
   "id": "ae24b697",
   "metadata": {},
   "outputs": [],
   "source": [
    "class Car:\n",
    "    def __init__(self,name):\n",
    "        self.__name=name\n",
    "    def getname(self): \n",
    "        return self.__name\n",
    "c1=Car(\"Toyota\") \n",
    "c2=Car(\"Honda\")"
   ]
  },
  {
   "cell_type": "code",
   "execution_count": 60,
   "id": "a16f1410",
   "metadata": {},
   "outputs": [
    {
     "name": "stdout",
     "output_type": "stream",
     "text": [
      "Toyota\n"
     ]
    }
   ],
   "source": [
    "print(c1._Car__name)"
   ]
  },
  {
   "cell_type": "markdown",
   "id": "4b3e64dc",
   "metadata": {},
   "source": [
    "#### Classic methods and static methods"
   ]
  },
  {
   "cell_type": "code",
   "execution_count": 62,
   "id": "c1f681e7",
   "metadata": {},
   "outputs": [],
   "source": [
    "class Car:\n",
    "    __totalcars=500\n",
    "    def gettotal(self):\n",
    "        return Car.__totalcars\n",
    "c1=Car()"
   ]
  },
  {
   "cell_type": "code",
   "execution_count": 63,
   "id": "75a8d8d1",
   "metadata": {},
   "outputs": [
    {
     "name": "stdout",
     "output_type": "stream",
     "text": [
      "500\n"
     ]
    }
   ],
   "source": [
    "print(c1.gettotal())"
   ]
  },
  {
   "cell_type": "code",
   "execution_count": 65,
   "id": "a46cb505",
   "metadata": {},
   "outputs": [],
   "source": [
    "class Car:\n",
    "    __totalcars=500\n",
    "    @classmethod\n",
    "    def gettotal(cls):\n",
    "        return Car.__totalcars\n",
    "c1=Car()"
   ]
  },
  {
   "cell_type": "code",
   "execution_count": 66,
   "id": "09198a69",
   "metadata": {},
   "outputs": [
    {
     "name": "stdout",
     "output_type": "stream",
     "text": [
      "500\n"
     ]
    }
   ],
   "source": [
    "print(c1.gettotal())"
   ]
  },
  {
   "cell_type": "markdown",
   "id": "9d1f3513",
   "metadata": {},
   "source": [
    "### 7) FOUR PILLARS OF OOP’S\n"
   ]
  },
  {
   "cell_type": "markdown",
   "id": "3d359115",
   "metadata": {},
   "source": [
    "#### 1) Magic functions"
   ]
  },
  {
   "cell_type": "code",
   "execution_count": 69,
   "id": "1760c097",
   "metadata": {},
   "outputs": [],
   "source": [
    "class Car:\n",
    "    def __init__(self,model,mileage):\n",
    "        self.model=model\n",
    "        self.mileage=mileage\n",
    "    def __str__(self):\n",
    "        return \"{} {}\".format(self.model,self.mileage)\n",
    "    def __eq___(self,other):\n",
    "        return self.mileage==other.mileage\n",
    "    def __add__(self,other):\n",
    "        return self.mileage+other.mileage"
   ]
  },
  {
   "cell_type": "code",
   "execution_count": 70,
   "id": "2ee2e41d",
   "metadata": {},
   "outputs": [
    {
     "name": "stdout",
     "output_type": "stream",
     "text": [
      "65\n",
      "False\n"
     ]
    }
   ],
   "source": [
    "c1=Car('toyota',30) \n",
    "c2=Car('Honda',35) \n",
    "print(c1+c2) \n",
    "print(c1==c2)"
   ]
  },
  {
   "cell_type": "code",
   "execution_count": 73,
   "id": "bb68d317",
   "metadata": {},
   "outputs": [
    {
     "name": "stdout",
     "output_type": "stream",
     "text": [
      "Rajat "
     ]
    },
    {
     "data": {
      "text/plain": [
       "<__main__.Ostream at 0x1d07185f400>"
      ]
     },
     "execution_count": 73,
     "metadata": {},
     "output_type": "execute_result"
    }
   ],
   "source": [
    "class Ostream:\n",
    "    def __lshift__(self,other):\n",
    "        print(other,end=\" \") \n",
    "        return self \n",
    "cout=Ostream() \n",
    "cout<<\"Rajat\""
   ]
  },
  {
   "cell_type": "markdown",
   "id": "ff8ece36",
   "metadata": {},
   "source": [
    "# INHERITANCE"
   ]
  },
  {
   "cell_type": "code",
   "execution_count": 77,
   "id": "507ad2b1",
   "metadata": {},
   "outputs": [],
   "source": [
    "class company():\n",
    "    def __init__(self,name,mileage):\n",
    "        self.name=name\n",
    "        self.mileage=mileage\n",
    "    def get(self):\n",
    "        print(\"Name :{},Mileage :{}\".format(self.name,self.mileage))\n",
    "        \n",
    "class Car(company):\n",
    "    def __init__(self,name,mileage,model):\n",
    "        super().__init__(name,mileage)\n",
    "        self.model=model \n",
    "    def get(self):\n",
    "        company.get(self)\n",
    "        print(\"Model :{}\".format(self.model))"
   ]
  },
  {
   "cell_type": "code",
   "execution_count": 78,
   "id": "ec87c088",
   "metadata": {},
   "outputs": [
    {
     "name": "stdout",
     "output_type": "stream",
     "text": [
      "Name :Toyota,Mileage :30\n",
      "Model :Innova\n"
     ]
    }
   ],
   "source": [
    "c1=Car(\"Toyota\",30,\"Innova\")\n",
    "c1.get()"
   ]
  },
  {
   "cell_type": "markdown",
   "id": "42478c14",
   "metadata": {},
   "source": [
    "### 1) MRO(Method resolution operator)"
   ]
  },
  {
   "cell_type": "code",
   "execution_count": 44,
   "id": "d83c2678",
   "metadata": {},
   "outputs": [
    {
     "name": "stdout",
     "output_type": "stream",
     "text": [
      "5\n",
      "(<class '__main__.E'>, <class '__main__.B'>, <class '__main__.D'>, <class '__main__.C'>, <class '__main__.A'>, <class 'object'>)\n"
     ]
    }
   ],
   "source": [
    "class A:\n",
    "    x=10\n",
    "class B(A):\n",
    "    pass \n",
    "class C(A):\n",
    "    pass\n",
    "class D(C):\n",
    "    x=5\n",
    "class E(B,D): \n",
    "    pass\n",
    "e=E() \n",
    "print(e.x)\n",
    "print(E.__mro__)"
   ]
  },
  {
   "cell_type": "code",
   "execution_count": null,
   "id": "5d06a198",
   "metadata": {},
   "outputs": [],
   "source": []
  }
 ],
 "metadata": {
  "kernelspec": {
   "display_name": "Python 3 (ipykernel)",
   "language": "python",
   "name": "python3"
  },
  "language_info": {
   "codemirror_mode": {
    "name": "ipython",
    "version": 3
   },
   "file_extension": ".py",
   "mimetype": "text/x-python",
   "name": "python",
   "nbconvert_exporter": "python",
   "pygments_lexer": "ipython3",
   "version": "3.9.6"
  }
 },
 "nbformat": 4,
 "nbformat_minor": 5
}
