{
 "cells": [
  {
   "cell_type": "markdown",
   "id": "5a31aba6",
   "metadata": {},
   "source": [
    "# REGULAR EXPRESSIONS"
   ]
  },
  {
   "cell_type": "code",
   "execution_count": 1,
   "id": "b521922e",
   "metadata": {},
   "outputs": [
    {
     "name": "stdout",
     "output_type": "stream",
     "text": [
      "True\n"
     ]
    }
   ],
   "source": [
    "A=\"ikusei123\"\n",
    "print(\"123\" in A)"
   ]
  },
  {
   "cell_type": "code",
   "execution_count": 2,
   "id": "e6a30e5f",
   "metadata": {},
   "outputs": [
    {
     "name": "stdout",
     "output_type": "stream",
     "text": [
      "6\n",
      "6\n"
     ]
    }
   ],
   "source": [
    "A=\"ikusei123\"\n",
    "print(A.find(\"123\"))\n",
    "print(A.index(\"123\"))"
   ]
  },
  {
   "cell_type": "markdown",
   "id": "47f53f3e",
   "metadata": {},
   "source": [
    "### 1) Search() and findall()\n"
   ]
  },
  {
   "cell_type": "markdown",
   "id": "9f4a5f31",
   "metadata": {},
   "source": [
    "#### Importing regular expressions"
   ]
  },
  {
   "cell_type": "code",
   "execution_count": 3,
   "id": "c2091702",
   "metadata": {},
   "outputs": [],
   "source": [
    "from  re import search,findall"
   ]
  },
  {
   "cell_type": "code",
   "execution_count": 4,
   "id": "eb976542",
   "metadata": {},
   "outputs": [
    {
     "name": "stdout",
     "output_type": "stream",
     "text": [
      "<re.Match object; span=(6, 9), match='123'>\n"
     ]
    }
   ],
   "source": [
    "a=\"Ikusei123Welcomes\"\n",
    "print(search(\"123\",a))"
   ]
  },
  {
   "cell_type": "code",
   "execution_count": 5,
   "id": "3d585a19",
   "metadata": {},
   "outputs": [
    {
     "name": "stdout",
     "output_type": "stream",
     "text": [
      "String found\n"
     ]
    }
   ],
   "source": [
    "a=\"Ikusei123Welcomes\" \n",
    "if(search(\"123\",a)): \n",
    "    print(\"String found\") \n",
    "else:\n",
    "    print(\"Not Found\")"
   ]
  },
  {
   "cell_type": "code",
   "execution_count": 6,
   "id": "986cab84",
   "metadata": {},
   "outputs": [
    {
     "name": "stdout",
     "output_type": "stream",
     "text": [
      "<re.Match object; span=(6, 9), match='123'>\n",
      "['123', '123']\n"
     ]
    }
   ],
   "source": [
    "a=\"Ikusei123Welcomes123\"\n",
    "print(search(\"123\",a))\n",
    "print(findall(\"123\",a))"
   ]
  },
  {
   "cell_type": "markdown",
   "id": "c170cdc0",
   "metadata": {},
   "source": [
    "### 2) match()\n",
    " "
   ]
  },
  {
   "cell_type": "code",
   "execution_count": 7,
   "id": "4f869894",
   "metadata": {},
   "outputs": [
    {
     "name": "stdout",
     "output_type": "stream",
     "text": [
      "<re.Match object; span=(0, 3), match='123'>\n",
      "None\n"
     ]
    }
   ],
   "source": [
    "from re import match \n",
    "a=\"123Ikuseil23Welcome\"\n",
    "print(match(\"123\",a)) \n",
    "print(match(\"Iku\", a))"
   ]
  },
  {
   "cell_type": "code",
   "execution_count": 8,
   "id": "b0684e61",
   "metadata": {},
   "outputs": [],
   "source": [
    "import re\n",
    "re?"
   ]
  },
  {
   "cell_type": "markdown",
   "id": "9c67c161",
   "metadata": {},
   "source": [
    "### 3) replace\n"
   ]
  },
  {
   "cell_type": "code",
   "execution_count": 9,
   "id": "471da1a1",
   "metadata": {},
   "outputs": [
    {
     "name": "stdout",
     "output_type": "stream",
     "text": [
      "Ikusei welcomes everyone\n"
     ]
    }
   ],
   "source": [
    "a=\"Ikusei welcomes you\" \n",
    "b=a.replace(\"you\",\"everyone\") \n",
    "print(b)"
   ]
  },
  {
   "cell_type": "code",
   "execution_count": 10,
   "id": "1f67782a",
   "metadata": {},
   "outputs": [
    {
     "name": "stdout",
     "output_type": "stream",
     "text": [
      "two plus two equals three, and two plus two equals two\n"
     ]
    }
   ],
   "source": [
    "a=\"one plus one equals three, and one plus one equals two\"  \n",
    "b=a.replace(\"one\",\"two\") \n",
    "print(b)"
   ]
  },
  {
   "cell_type": "code",
   "execution_count": 11,
   "id": "314b2f76",
   "metadata": {},
   "outputs": [
    {
     "name": "stdout",
     "output_type": "stream",
     "text": [
      "two plus one equals three, and one plus one equals two\n"
     ]
    }
   ],
   "source": [
    "a=\"one plus one equals three, and one plus one equals two\"  \n",
    "b=a.replace(\"one\",\"two\",1) \n",
    "print(b)"
   ]
  },
  {
   "cell_type": "markdown",
   "id": "ecb92919",
   "metadata": {},
   "source": [
    "# META CHARACTERS"
   ]
  },
  {
   "cell_type": "markdown",
   "id": "03924c80",
   "metadata": {},
   "source": [
    "### 1) Dot meta character (.)\n",
    " "
   ]
  },
  {
   "cell_type": "code",
   "execution_count": 12,
   "id": "bb8290e5",
   "metadata": {},
   "outputs": [
    {
     "name": "stdout",
     "output_type": "stream",
     "text": [
      "<re.Match object; span=(0, 3), match='Iku'>\n"
     ]
    }
   ],
   "source": [
    "from re import search \n",
    "a=\"Ikusei welcomes Ikusei\"\n",
    "print(search(r\"I.u\", a))"
   ]
  },
  {
   "cell_type": "code",
   "execution_count": 13,
   "id": "8b30542b",
   "metadata": {},
   "outputs": [
    {
     "name": "stdout",
     "output_type": "stream",
     "text": [
      "<re.Match object; span=(7, 11), match='welc'>\n"
     ]
    }
   ],
   "source": [
    "a=\"Ikusei welcomes Ikusei\"\n",
    "print(search(r\"w..c\", a))"
   ]
  },
  {
   "cell_type": "code",
   "execution_count": 14,
   "id": "cdadc4c9",
   "metadata": {},
   "outputs": [
    {
     "name": "stdout",
     "output_type": "stream",
     "text": [
      "Ikusei Momes Ikusei\n"
     ]
    }
   ],
   "source": [
    "from re import sub\n",
    "a=\"Ikusei welcomes Ikusei\"\n",
    "print(sub(r\"w..c\",\"M\", a))"
   ]
  },
  {
   "cell_type": "markdown",
   "id": "8feede82",
   "metadata": {},
   "source": [
    "### 2) Caret Meta character (^)\n"
   ]
  },
  {
   "cell_type": "code",
   "execution_count": 15,
   "id": "6cc8644f",
   "metadata": {},
   "outputs": [
    {
     "name": "stdout",
     "output_type": "stream",
     "text": [
      "<re.Match object; span=(0, 2), match='Ik'>\n",
      "we welcomes you\n",
      "None\n"
     ]
    }
   ],
   "source": [
    "from re import search,sub \n",
    "a=\"Ikusei welcomes you\" \n",
    "print (search (\"^Ik\", a)) \n",
    "print(sub(r\"^Ikusei\",\"we\",a)) \n",
    "print(search(r\"^asd\",a))"
   ]
  },
  {
   "cell_type": "markdown",
   "id": "e05a2f79",
   "metadata": {},
   "source": [
    "### 3) Dollar meta character ($)\n"
   ]
  },
  {
   "cell_type": "code",
   "execution_count": 16,
   "id": "85705a16",
   "metadata": {},
   "outputs": [
    {
     "name": "stdout",
     "output_type": "stream",
     "text": [
      "<re.Match object; span=(16, 19), match='you'>\n",
      "Ikusei welcomes everyone\n",
      "None\n"
     ]
    }
   ],
   "source": [
    "from re import search,sub \n",
    "a=\"Ikusei welcomes you\" \n",
    "print(search(\"you$\",a)) \n",
    "print(sub(r\" you$\",\" everyone\",a)) \n",
    "print(search(r\"abc$\",a))"
   ]
  },
  {
   "cell_type": "markdown",
   "id": "2aaf578f",
   "metadata": {},
   "source": [
    "### 4) Character class []\n"
   ]
  },
  {
   "cell_type": "code",
   "execution_count": 17,
   "id": "0ce1972f",
   "metadata": {},
   "outputs": [
    {
     "name": "stdout",
     "output_type": "stream",
     "text": [
      "['u', 'e', 'i', 'e', 'o', 'e', 'o', 'u']\n",
      "<re.Match object; span=(3, 6), match='123'>\n"
     ]
    }
   ],
   "source": [
    "from re import findall,search \n",
    "a=\"Ikusei welcomes you\" \n",
    "print(findall(r\"[a,e,i,o,u]\",a)) \n",
    "b=\"fun123Ssh\"\n",
    "print(search('[0-9][0-9][0-9]',b))"
   ]
  },
  {
   "cell_type": "markdown",
   "id": "0fbbf646",
   "metadata": {},
   "source": [
    "### 5) Star meta character (*)\n"
   ]
  },
  {
   "cell_type": "code",
   "execution_count": 18,
   "id": "f32acbfd",
   "metadata": {},
   "outputs": [
    {
     "name": "stdout",
     "output_type": "stream",
     "text": [
      "<re.Match object; span=(1, 5), match='issi'>\n",
      "['issi', 'issi']\n"
     ]
    }
   ],
   "source": [
    "from re import findall,search \n",
    "a=\"Missiissippi\"\n",
    "print(search(r\"is*i\",a)) \n",
    "print(findall(r\"is*i\",a))"
   ]
  },
  {
   "cell_type": "markdown",
   "id": "3ed95c37",
   "metadata": {},
   "source": [
    "### 6) Plus meta character (+)\n"
   ]
  },
  {
   "cell_type": "code",
   "execution_count": 19,
   "id": "5587f70c",
   "metadata": {},
   "outputs": [
    {
     "name": "stdout",
     "output_type": "stream",
     "text": [
      "<re.Match object; span=(1, 5), match='issi'>\n",
      "['issi', 'issi']\n"
     ]
    }
   ],
   "source": [
    "a=\"Missiissippi\"\n",
    "print(search(r\"is+i\",a)) \n",
    "print(findall(r\"is+i\",a))"
   ]
  },
  {
   "cell_type": "code",
   "execution_count": 20,
   "id": "d22825cb",
   "metadata": {},
   "outputs": [
    {
     "name": "stdout",
     "output_type": "stream",
     "text": [
      "<re.Match object; span=(1, 3), match='ii'>\n",
      "[]\n"
     ]
    }
   ],
   "source": [
    "a=\"Miiiippi\"\n",
    "print(search(r\"is*i\",a)) \n",
    "print(findall(r\"is+i\",a))"
   ]
  },
  {
   "cell_type": "markdown",
   "id": "a436944b",
   "metadata": {},
   "source": [
    "### 7) Curly braces {m,n}\n"
   ]
  },
  {
   "cell_type": "code",
   "execution_count": 21,
   "id": "2aa0fb38",
   "metadata": {},
   "outputs": [
    {
     "name": "stdout",
     "output_type": "stream",
     "text": [
      "<re.Match object; span=(2, 4), match='ss'>\n",
      "None\n",
      "<re.Match object; span=(0, 1), match='M'>\n"
     ]
    }
   ],
   "source": [
    "a=\"Missiissippi\"\n",
    "print(search(\"s{2,4}\",a)) \n",
    "print(search(\"M{2,4}\",a))\n",
    "print(search(\"M{1,4}\",a))"
   ]
  },
  {
   "cell_type": "markdown",
   "id": "da83b72a",
   "metadata": {},
   "source": [
    "### 8) Group \n"
   ]
  },
  {
   "cell_type": "code",
   "execution_count": 22,
   "id": "b1d9fd9d",
   "metadata": {},
   "outputs": [
    {
     "name": "stdout",
     "output_type": "stream",
     "text": [
      "16\n",
      "19\n",
      "(16, 19)\n"
     ]
    }
   ],
   "source": [
    "from re import search \n",
    "a=\"Ikusei welcomes you\" \n",
    "result=search(r\"\\byou\",a) \n",
    "print(result.start()) \n",
    "print(result.end()) \n",
    "print(result.span())"
   ]
  },
  {
   "cell_type": "code",
   "execution_count": 23,
   "id": "41ecb8f4",
   "metadata": {},
   "outputs": [
    {
     "name": "stdout",
     "output_type": "stream",
     "text": [
      "None\n"
     ]
    }
   ],
   "source": [
    "a=\"Ikusei welcomes clyou\" \n",
    "result=search(r\"\\byou\",a) \n",
    "print(result)"
   ]
  },
  {
   "cell_type": "code",
   "execution_count": 24,
   "id": "091c0fce",
   "metadata": {},
   "outputs": [
    {
     "name": "stdout",
     "output_type": "stream",
     "text": [
      "<re.Match object; span=(16, 19), match='you'>\n",
      "you\n"
     ]
    }
   ],
   "source": [
    "a=\"Ikusei welcomes you\" \n",
    "result=search(r\"\\byou\",a) \n",
    "print(result)\n",
    "print(result.group())"
   ]
  },
  {
   "cell_type": "markdown",
   "id": "9b00a34d",
   "metadata": {},
   "source": [
    "### 9) Serialization with pickle\n"
   ]
  },
  {
   "cell_type": "code",
   "execution_count": 25,
   "id": "a3bb6129",
   "metadata": {},
   "outputs": [],
   "source": [
    "mytext=\"Ikusei welcomes!\"\n",
    "myint=21\n",
    "myfloat=7.86"
   ]
  },
  {
   "cell_type": "markdown",
   "id": "4035b8f5",
   "metadata": {},
   "source": [
    "#### Storing data in a file"
   ]
  },
  {
   "cell_type": "code",
   "execution_count": 26,
   "id": "fc065973",
   "metadata": {},
   "outputs": [],
   "source": [
    "with open(\"my_data.txt\",'w')as file: \n",
    "    file.write(mytext+'\\n') \n",
    "    file.write(str(myint)+' \\n') \n",
    "    file.write(str(myfloat)+' \\n')"
   ]
  },
  {
   "cell_type": "markdown",
   "id": "ad85caf1",
   "metadata": {},
   "source": [
    "#### Retireving the data"
   ]
  },
  {
   "cell_type": "code",
   "execution_count": 27,
   "id": "fdafaa0d",
   "metadata": {},
   "outputs": [
    {
     "name": "stdout",
     "output_type": "stream",
     "text": [
      "Ikusei welcomes!\n",
      "21\n",
      "7.86\n"
     ]
    }
   ],
   "source": [
    "with open(\"my_data.txt\",'r')as file: \n",
    "    data=file.read().splitlines() \n",
    "    mytext=data[0]\n",
    "    myint=int(data[1])\n",
    "    myfloat=float(data[2])\n",
    "print(mytext)\n",
    "print(myint) \n",
    "print(myfloat)"
   ]
  },
  {
   "cell_type": "code",
   "execution_count": 28,
   "id": "2c760c29",
   "metadata": {},
   "outputs": [
    {
     "name": "stdout",
     "output_type": "stream",
     "text": [
      "Toyota\n",
      "30\n",
      "Toyota\n",
      "25\n"
     ]
    }
   ],
   "source": [
    "class Car:\n",
    "    def __init__(self,name,mileage):\n",
    "        self.name=name\n",
    "        self.mileage=mileage\n",
    "    def print_info(self): \n",
    "        print(self.name) \n",
    "        print(self.mileage)\n",
    "    def change_mileage(self,amount): \n",
    "        self.mileage-=amount \n",
    "        \n",
    "c1=Car('Toyota',30) \n",
    "c1.print_info() \n",
    "c1.change_mileage(5)\n",
    "c1.print_info()"
   ]
  },
  {
   "cell_type": "code",
   "execution_count": 29,
   "id": "f6ca1e7e",
   "metadata": {},
   "outputs": [],
   "source": [
    "import pickle\n",
    "with open(\"data.pickle\",'wb')as file:\n",
    "    pickle.dump(c1,file)"
   ]
  },
  {
   "cell_type": "code",
   "execution_count": 30,
   "id": "d8dec2c2",
   "metadata": {},
   "outputs": [
    {
     "name": "stdout",
     "output_type": "stream",
     "text": [
      "Toyota\n",
      "25\n"
     ]
    }
   ],
   "source": [
    "with open(\"data.pickle\",\"rb\")as file: \n",
    "    c2=pickle.load(file) \n",
    "    c2.print_info()"
   ]
  },
  {
   "cell_type": "markdown",
   "id": "e3ec75a2",
   "metadata": {},
   "source": [
    "### 10) Shelve Module\n"
   ]
  },
  {
   "cell_type": "markdown",
   "id": "676dfd58",
   "metadata": {},
   "source": [
    "### Storing data in the file (persistent file storage)"
   ]
  },
  {
   "cell_type": "code",
   "execution_count": 31,
   "id": "ba658c8f",
   "metadata": {},
   "outputs": [
    {
     "name": "stdout",
     "output_type": "stream",
     "text": [
      "Name Toyota\n",
      "Model innova\n"
     ]
    }
   ],
   "source": [
    "import shelve\n",
    "s=shelve.open(\"Myshelve\")\n",
    "s[\"Name\"]=\"Toyota\"\n",
    "s[\"Model\"]=\"innova\"\n",
    "for key in s: \n",
    "    print(key,s[key])\n",
    "s.close()"
   ]
  },
  {
   "cell_type": "markdown",
   "id": "b4616030",
   "metadata": {},
   "source": [
    "### Retrieving stored data later i.e. deserializing"
   ]
  },
  {
   "cell_type": "code",
   "execution_count": 32,
   "id": "e426f9fa",
   "metadata": {},
   "outputs": [
    {
     "name": "stdout",
     "output_type": "stream",
     "text": [
      "Toyota\n",
      "innova\n"
     ]
    }
   ],
   "source": [
    "s=shelve.open(\"Myshelve\") \n",
    "print(s[\"Name\"]) \n",
    "print(s[\"Model\"]) \n",
    "s.close()"
   ]
  }
 ],
 "metadata": {
  "kernelspec": {
   "display_name": "Python 3 (ipykernel)",
   "language": "python",
   "name": "python3"
  },
  "language_info": {
   "codemirror_mode": {
    "name": "ipython",
    "version": 3
   },
   "file_extension": ".py",
   "mimetype": "text/x-python",
   "name": "python",
   "nbconvert_exporter": "python",
   "pygments_lexer": "ipython3",
   "version": "3.9.6"
  }
 },
 "nbformat": 4,
 "nbformat_minor": 5
}
