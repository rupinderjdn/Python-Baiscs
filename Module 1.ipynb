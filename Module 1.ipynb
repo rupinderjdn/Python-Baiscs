{
 "cells": [
  {
   "cell_type": "markdown",
   "id": "d5e8fc1d",
   "metadata": {},
   "source": [
    "# BASIC PYTHON CONCEPTS"
   ]
  },
  {
   "cell_type": "code",
   "execution_count": 2,
   "id": "f9a471ab",
   "metadata": {},
   "outputs": [
    {
     "name": "stdout",
     "output_type": "stream",
     "text": [
      "Hello World!\n"
     ]
    }
   ],
   "source": [
    "print(\"Hello World!\")"
   ]
  },
  {
   "cell_type": "markdown",
   "id": "8aad925b",
   "metadata": {},
   "source": [
    "### INDENTING"
   ]
  },
  {
   "cell_type": "code",
   "execution_count": 3,
   "id": "abc6a2c0",
   "metadata": {},
   "outputs": [
    {
     "name": "stdout",
     "output_type": "stream",
     "text": [
      "6\n",
      "greater than or equal to 5\n"
     ]
    }
   ],
   "source": [
    "a=int(input())\n",
    "if(a>=5):\n",
    "    print(\"greater than or equal to 5\")\n",
    "else:\n",
    "    print(\"Smaller than 5\")"
   ]
  },
  {
   "cell_type": "code",
   "execution_count": 6,
   "id": "6816bb84",
   "metadata": {},
   "outputs": [
    {
     "name": "stdout",
     "output_type": "stream",
     "text": [
      "5\n"
     ]
    }
   ],
   "source": [
    "a=int(input())\n",
    "if(a>=5):\n",
    "    pass\n",
    "#print(\"greater than or equal to 5\") -> this line will return an error\n",
    "else:\n",
    "    print(\"Smaller than 5\")"
   ]
  },
  {
   "cell_type": "markdown",
   "id": "a13c7426",
   "metadata": {},
   "source": [
    "### KEYWORDS"
   ]
  },
  {
   "cell_type": "code",
   "execution_count": 7,
   "id": "dba72b16",
   "metadata": {},
   "outputs": [
    {
     "name": "stdout",
     "output_type": "stream",
     "text": [
      "keyword are 36 key words\n",
      "False\n",
      "None\n",
      "True\n",
      "__peg_parser__\n",
      "and\n",
      "as\n",
      "assert\n",
      "async\n",
      "await\n",
      "break\n",
      "class\n",
      "continue\n",
      "def\n",
      "del\n",
      "elif\n",
      "else\n",
      "except\n",
      "finally\n",
      "for\n",
      "from\n",
      "global\n",
      "if\n",
      "import\n",
      "in\n",
      "is\n",
      "lambda\n",
      "nonlocal\n",
      "not\n",
      "or\n",
      "pass\n",
      "raise\n",
      "return\n",
      "try\n",
      "while\n",
      "with\n",
      "yield\n"
     ]
    }
   ],
   "source": [
    "import keyword \n",
    "print(f'keyword are {len(keyword.kwlist)} key words')\n",
    "for keywrd in keyword.kwlist:\n",
    "    print(keywrd)"
   ]
  },
  {
   "cell_type": "markdown",
   "id": "e77d3fd6",
   "metadata": {},
   "source": [
    "### SYNTAX AND SEMANTICS"
   ]
  },
  {
   "cell_type": "code",
   "execution_count": 8,
   "id": "6d117512",
   "metadata": {},
   "outputs": [
    {
     "ename": "SyntaxError",
     "evalue": "cannot assign to literal (Temp/ipykernel_5260/1551992638.py, line 3)",
     "output_type": "error",
     "traceback": [
      "\u001b[1;36m  File \u001b[1;32m\"C:\\Users\\SYSTEM~1\\AppData\\Local\\Temp/ipykernel_5260/1551992638.py\"\u001b[1;36m, line \u001b[1;32m3\u001b[0m\n\u001b[1;33m    6=b\u001b[0m\n\u001b[1;37m    ^\u001b[0m\n\u001b[1;31mSyntaxError\u001b[0m\u001b[1;31m:\u001b[0m cannot assign to literal\n"
     ]
    }
   ],
   "source": [
    "a=5\n",
    "print(a)\n",
    "#6=b -> This line will retuen in an error\n",
    "print(b)"
   ]
  },
  {
   "cell_type": "markdown",
   "id": "76b2ed44",
   "metadata": {},
   "source": [
    "### LITERALS"
   ]
  },
  {
   "cell_type": "markdown",
   "id": "1ecf8c52",
   "metadata": {},
   "source": [
    "#### 1) STRING LITERALS"
   ]
  },
  {
   "cell_type": "code",
   "execution_count": 10,
   "id": "f74895c9",
   "metadata": {},
   "outputs": [
    {
     "name": "stdout",
     "output_type": "stream",
     "text": [
      "Ikusei \n",
      "Ikusei\n"
     ]
    }
   ],
   "source": [
    "a=\"Ikusei \" \n",
    "print(a) \n",
    "print(\"Ikusei\")"
   ]
  },
  {
   "cell_type": "markdown",
   "id": "f35e47d4",
   "metadata": {},
   "source": [
    "####  CHARACTER LITERALS"
   ]
  },
  {
   "cell_type": "code",
   "execution_count": 11,
   "id": "2beb5508",
   "metadata": {},
   "outputs": [
    {
     "name": "stdout",
     "output_type": "stream",
     "text": [
      "a\n"
     ]
    }
   ],
   "source": [
    "a=\"a\" \n",
    "print(a)"
   ]
  },
  {
   "cell_type": "markdown",
   "id": "48ad53f8",
   "metadata": {},
   "source": [
    "#### 2) NUMERIC LITERALS"
   ]
  },
  {
   "cell_type": "code",
   "execution_count": 15,
   "id": "09bb8e64",
   "metadata": {},
   "outputs": [
    {
     "name": "stdout",
     "output_type": "stream",
     "text": [
      "10\n",
      "302\n",
      "26\n",
      "13\n",
      "5.67\n"
     ]
    }
   ],
   "source": [
    "print(10)\n",
    "print(0o456)\n",
    "print(0X1A)\n",
    "print(0b1101)\n",
    "print(5.67)"
   ]
  },
  {
   "cell_type": "code",
   "execution_count": 12,
   "id": "8047c66d",
   "metadata": {},
   "outputs": [
    {
     "name": "stdout",
     "output_type": "stream",
     "text": [
      "6022.0\n",
      "(2+3j)\n"
     ]
    }
   ],
   "source": [
    "print(6.022E3) \n",
    "print(2+3j)"
   ]
  },
  {
   "cell_type": "markdown",
   "id": "50bb96aa",
   "metadata": {},
   "source": [
    "#### 3) BOOLEAN LITERALS"
   ]
  },
  {
   "cell_type": "code",
   "execution_count": 16,
   "id": "71c489bb",
   "metadata": {},
   "outputs": [
    {
     "name": "stdout",
     "output_type": "stream",
     "text": [
      "True False\n"
     ]
    }
   ],
   "source": [
    "a=(1==1)\n",
    "b=(1==0)\n",
    "print(a, b)"
   ]
  },
  {
   "cell_type": "markdown",
   "id": "7e10d4ab",
   "metadata": {},
   "source": [
    "#### 4) NONE LITERALS"
   ]
  },
  {
   "cell_type": "code",
   "execution_count": 17,
   "id": "8f222448",
   "metadata": {},
   "outputs": [
    {
     "name": "stdout",
     "output_type": "stream",
     "text": [
      "None\n"
     ]
    }
   ],
   "source": [
    "print(None)"
   ]
  },
  {
   "cell_type": "markdown",
   "id": "1634eb4b",
   "metadata": {},
   "source": [
    "###  STRING AND STRING OPERATIONS"
   ]
  },
  {
   "cell_type": "markdown",
   "id": "51eb57d5",
   "metadata": {},
   "source": [
    "#### 1) STRING DECLARATION"
   ]
  },
  {
   "cell_type": "code",
   "execution_count": 18,
   "id": "adbcc651",
   "metadata": {},
   "outputs": [
    {
     "name": "stdout",
     "output_type": "stream",
     "text": [
      "Ikusei Rocks!\n"
     ]
    }
   ],
   "source": [
    "a=\"Ikusei Rocks!\"\n",
    "print(a)"
   ]
  },
  {
   "cell_type": "markdown",
   "id": "1fac2f79",
   "metadata": {},
   "source": [
    "#### 2) INDEXING AND SLICING"
   ]
  },
  {
   "cell_type": "code",
   "execution_count": 19,
   "id": "ef28272b",
   "metadata": {},
   "outputs": [
    {
     "name": "stdout",
     "output_type": "stream",
     "text": [
      "R\n",
      "s\n",
      "!\n"
     ]
    }
   ],
   "source": [
    "a=\"Ikusei Rocks!\"\n",
    "print(a[7])\n",
    "print(a[3])\n",
    "print(a[-1])"
   ]
  },
  {
   "cell_type": "code",
   "execution_count": 20,
   "id": "fdbae0e9",
   "metadata": {},
   "outputs": [
    {
     "name": "stdout",
     "output_type": "stream",
     "text": [
      "kusei\n",
      "Ikuse\n",
      "i Rocks!\n",
      "i Rocks\n"
     ]
    }
   ],
   "source": [
    "string=\"Ikusei Rocks!\"\n",
    "print(string[1:6])\n",
    "print(string[:5])\n",
    "print(string[5:])\n",
    "print(string[-8:-1])"
   ]
  },
  {
   "cell_type": "markdown",
   "id": "f57fc33a",
   "metadata": {},
   "source": [
    "#### 3) STRING CONCATENATION"
   ]
  },
  {
   "cell_type": "code",
   "execution_count": 21,
   "id": "14f1ee56",
   "metadata": {},
   "outputs": [
    {
     "name": "stdout",
     "output_type": "stream",
     "text": [
      " Ikusei  welcomes  you  to the family \n"
     ]
    }
   ],
   "source": [
    "a=\" Ikusei \"\n",
    "b=\" welcomes \"\n",
    "c=\" you \"\n",
    "d=\" to the family \" \n",
    "print(a+b+c+d)"
   ]
  },
  {
   "cell_type": "markdown",
   "id": "d9350590",
   "metadata": {},
   "source": [
    "#### 4) BUILT-IN FUNCTION LEN()"
   ]
  },
  {
   "cell_type": "code",
   "execution_count": 24,
   "id": "effd054b",
   "metadata": {},
   "outputs": [
    {
     "name": "stdout",
     "output_type": "stream",
     "text": [
      "Length of the string is :  37\n",
      "Ikusei  welcomes  you  to the family \n"
     ]
    }
   ],
   "source": [
    "a=\"Ikusei \"\n",
    "b=\" welcomes \"\n",
    "c=\" you \"\n",
    "d=\" to the family \"\n",
    "string=a+b+c+d\n",
    "print(\"Length of the string is : \",len(string)) \n",
    "print(string)"
   ]
  },
  {
   "cell_type": "markdown",
   "id": "517245ce",
   "metadata": {},
   "source": [
    "#### 5) INDEX ERROR"
   ]
  },
  {
   "cell_type": "code",
   "execution_count": 25,
   "id": "903f273b",
   "metadata": {},
   "outputs": [
    {
     "ename": "IndexError",
     "evalue": "string index out of range",
     "output_type": "error",
     "traceback": [
      "\u001b[1;31m---------------------------------------------------------------------------\u001b[0m",
      "\u001b[1;31mIndexError\u001b[0m                                Traceback (most recent call last)",
      "\u001b[1;32mC:\\Users\\SYSTEM~1\\AppData\\Local\\Temp/ipykernel_5260/2412204575.py\u001b[0m in \u001b[0;36m<module>\u001b[1;34m\u001b[0m\n\u001b[0;32m      1\u001b[0m \u001b[0ma\u001b[0m\u001b[1;33m=\u001b[0m\u001b[1;34m\"Ikusei\"\u001b[0m\u001b[1;33m\u001b[0m\u001b[1;33m\u001b[0m\u001b[0m\n\u001b[1;32m----> 2\u001b[1;33m \u001b[0mprint\u001b[0m\u001b[1;33m(\u001b[0m\u001b[0ma\u001b[0m\u001b[1;33m[\u001b[0m\u001b[1;36m6\u001b[0m\u001b[1;33m]\u001b[0m\u001b[1;33m)\u001b[0m\u001b[1;33m\u001b[0m\u001b[1;33m\u001b[0m\u001b[0m\n\u001b[0m",
      "\u001b[1;31mIndexError\u001b[0m: string index out of range"
     ]
    }
   ],
   "source": [
    "a=\"Ikusei\"\n",
    "#print(a[6])-> this line will return an error"
   ]
  },
  {
   "cell_type": "markdown",
   "id": "b4a786fe",
   "metadata": {},
   "source": [
    "#### 7) ESCAPING CHARACTERS"
   ]
  },
  {
   "cell_type": "code",
   "execution_count": 27,
   "id": "376030dd",
   "metadata": {},
   "outputs": [
    {
     "name": "stdout",
     "output_type": "stream",
     "text": [
      "She said \"Never let go\".\n"
     ]
    }
   ],
   "source": [
    "txt = \"She said \\\"Never let go\\\".\" \n",
    "print(txt)"
   ]
  },
  {
   "attachments": {},
   "cell_type": "markdown",
   "id": "491b54e7",
   "metadata": {},
   "source": [
    "#### 8) The “in” syntax"
   ]
  },
  {
   "cell_type": "code",
   "execution_count": 28,
   "id": "3fe5731d",
   "metadata": {},
   "outputs": [
    {
     "name": "stdout",
     "output_type": "stream",
     "text": [
      "True\n",
      "False\n"
     ]
    }
   ],
   "source": [
    "game = \"Ikusei welcomes you to the family\"\n",
    "print(\"l\" in game)\n",
    "print(\"g\" in game)"
   ]
  },
  {
   "cell_type": "markdown",
   "id": "3eb81720",
   "metadata": {},
   "source": [
    "#### 9) String method .lower()"
   ]
  },
  {
   "cell_type": "code",
   "execution_count": 29,
   "id": "336c24f8",
   "metadata": {},
   "outputs": [
    {
     "name": "stdout",
     "output_type": "stream",
     "text": [
      "ikusei\n"
     ]
    }
   ],
   "source": [
    "msge = \"IKUSEI\" \n",
    "print(msge.lower())"
   ]
  },
  {
   "cell_type": "markdown",
   "id": "cdf33f22",
   "metadata": {},
   "source": [
    "#### 10) String method .upper()"
   ]
  },
  {
   "cell_type": "code",
   "execution_count": 30,
   "id": "07ce0602",
   "metadata": {},
   "outputs": [
    {
     "name": "stdout",
     "output_type": "stream",
     "text": [
      "IKUSEI\n"
     ]
    }
   ],
   "source": [
    "msge = \"ikusei\" \n",
    "print(msge.upper())"
   ]
  },
  {
   "cell_type": "markdown",
   "id": "a6b876ee",
   "metadata": {},
   "source": [
    "#### 11) String method .title()"
   ]
  },
  {
   "cell_type": "code",
   "execution_count": 31,
   "id": "80db27ea",
   "metadata": {},
   "outputs": [
    {
     "name": "stdout",
     "output_type": "stream",
     "text": [
      "The Dark Knight\n"
     ]
    }
   ],
   "source": [
    "film=\"the dark knight\" \n",
    "print(film.title())"
   ]
  },
  {
   "cell_type": "markdown",
   "id": "3b1c49be",
   "metadata": {},
   "source": [
    "#### 12) String method .split()"
   ]
  },
  {
   "cell_type": "code",
   "execution_count": 32,
   "id": "2a3c351d",
   "metadata": {},
   "outputs": [
    {
     "name": "stdout",
     "output_type": "stream",
     "text": [
      "['Ikusei', 'welcomes', 'you']\n",
      "['Ikus', 'i w', 'lcom', 's you']\n"
     ]
    }
   ],
   "source": [
    "msge=\"Ikusei welcomes you\" \n",
    "print(msge.split()) \n",
    "print(msge.split(\"e\"))"
   ]
  },
  {
   "cell_type": "markdown",
   "id": "4325c3a5",
   "metadata": {},
   "source": [
    "#### 13) String method .join()\n"
   ]
  },
  {
   "cell_type": "code",
   "execution_count": 33,
   "id": "22d67d8b",
   "metadata": {},
   "outputs": [
    {
     "name": "stdout",
     "output_type": "stream",
     "text": [
      "Ikusei-welcomes-you\n"
     ]
    }
   ],
   "source": [
    "a=\"Ikusei\" \n",
    "b=\"welcomes\" \n",
    "c=\"you\" \n",
    "msge=\"-\".join([a,b,c]) \n",
    "print(msge)"
   ]
  },
  {
   "cell_type": "markdown",
   "id": "68a983c9",
   "metadata": {},
   "source": [
    "#### 14) String method .split()\n"
   ]
  },
  {
   "cell_type": "code",
   "execution_count": 35,
   "id": "ee02ab25",
   "metadata": {},
   "outputs": [
    {
     "name": "stdout",
     "output_type": "stream",
     "text": [
      "['Ikusei']\n",
      "['', '', '', '', 'Ikusei', '', '', '', '', '', '']\n"
     ]
    }
   ],
   "source": [
    "msge=\" Ikusei \"\n",
    "print(msge.split()) \n",
    "msge=\"....Ikusei......\"\n",
    "print(msge.split(\".\"))"
   ]
  },
  {
   "cell_type": "markdown",
   "id": "6fb19adc",
   "metadata": {},
   "source": [
    "#### 15) String method replace \n"
   ]
  },
  {
   "cell_type": "code",
   "execution_count": 36,
   "id": "e45fc61e",
   "metadata": {},
   "outputs": [
    {
     "name": "stdout",
     "output_type": "stream",
     "text": [
      "Ikusei-welcomes-you\n",
      "IkusEi wElcomEs you\n"
     ]
    }
   ],
   "source": [
    "msge=\"Ikusei welcomes you\" \n",
    "print(msge.replace(\" \",\"-\")) \n",
    "print(msge.replace(\"e\", \"E\"))"
   ]
  },
  {
   "cell_type": "markdown",
   "id": "a53f2100",
   "metadata": {},
   "source": [
    "#### 16)String method find()"
   ]
  },
  {
   "cell_type": "code",
   "execution_count": 37,
   "id": "da6464e8",
   "metadata": {},
   "outputs": [
    {
     "name": "stdout",
     "output_type": "stream",
     "text": [
      "4\n"
     ]
    }
   ],
   "source": [
    "msge=\"Ikusei welcomes you \" \n",
    "print(msge.find(\"e\"))"
   ]
  },
  {
   "cell_type": "markdown",
   "id": "502d8652",
   "metadata": {},
   "source": [
    "#### 17) String method .format()\n"
   ]
  },
  {
   "cell_type": "code",
   "execution_count": 40,
   "id": "21a136f7",
   "metadata": {},
   "outputs": [
    {
     "name": "stdout",
     "output_type": "stream",
     "text": [
      "Square of 5 is 25 \n"
     ]
    }
   ],
   "source": [
    "num=5\n",
    "sq=num*num\n",
    "print(\"Square of {} is {} \".format(num,sq))"
   ]
  },
  {
   "cell_type": "markdown",
   "id": "4cc258ec",
   "metadata": {},
   "source": [
    "###### 2nd Method"
   ]
  },
  {
   "cell_type": "code",
   "execution_count": 43,
   "id": "366ad790",
   "metadata": {},
   "outputs": [
    {
     "name": "stdout",
     "output_type": "stream",
     "text": [
      "Square of 5 is 25 \n"
     ]
    }
   ],
   "source": [
    "num=5\n",
    "sq=num*num\n",
    "print(\"Square of {number} is {squared_value} \".format(number=num,squared_value=sq))"
   ]
  },
  {
   "cell_type": "markdown",
   "id": "5325c8e4",
   "metadata": {},
   "source": [
    "### MATH OPERATIONS"
   ]
  },
  {
   "cell_type": "markdown",
   "id": "8d0dca40",
   "metadata": {},
   "source": [
    "#### 1) NUMERICAL OPERATORS"
   ]
  },
  {
   "cell_type": "markdown",
   "id": "cc1746c6",
   "metadata": {},
   "source": [
    "#### a) Addition and Subtraction\n"
   ]
  },
  {
   "cell_type": "code",
   "execution_count": 47,
   "id": "24fe80d4",
   "metadata": {},
   "outputs": [
    {
     "name": "stdout",
     "output_type": "stream",
     "text": [
      "12\n"
     ]
    }
   ],
   "source": [
    "a=5\n",
    "b=7\n",
    "print(a+b)"
   ]
  },
  {
   "attachments": {},
   "cell_type": "markdown",
   "id": "b34162e6",
   "metadata": {},
   "source": [
    "#### b)Division and multiplication\n"
   ]
  },
  {
   "cell_type": "code",
   "execution_count": 48,
   "id": "19b38986",
   "metadata": {},
   "outputs": [
    {
     "name": "stdout",
     "output_type": "stream",
     "text": [
      "1.5\n",
      "96\n"
     ]
    }
   ],
   "source": [
    "a=12\n",
    "b=8\n",
    "print(12/8)\n",
    "print(12*8)"
   ]
  },
  {
   "cell_type": "markdown",
   "id": "a2b52396",
   "metadata": {},
   "source": [
    "#### c) Exponential(**) and Modulo(%) operator\n"
   ]
  },
  {
   "cell_type": "code",
   "execution_count": 49,
   "id": "654495b4",
   "metadata": {},
   "outputs": [
    {
     "name": "stdout",
     "output_type": "stream",
     "text": [
      "16\n",
      "0\n",
      "1\n"
     ]
    }
   ],
   "source": [
    "print(4**2)\n",
    "print(4%2)\n",
    "print(4%3)"
   ]
  },
  {
   "cell_type": "markdown",
   "id": "c9a4f60a",
   "metadata": {},
   "source": [
    "#### d) Floor division \n"
   ]
  },
  {
   "cell_type": "code",
   "execution_count": 50,
   "id": "2d7d26ee",
   "metadata": {},
   "outputs": [
    {
     "name": "stdout",
     "output_type": "stream",
     "text": [
      "3.3333333333333335\n",
      "3\n"
     ]
    }
   ],
   "source": [
    "print(10/3)\n",
    "print(10//3)"
   ]
  },
  {
   "cell_type": "markdown",
   "id": "6863ae7f",
   "metadata": {},
   "source": [
    "#### 2) BIT-WISE OPERATOR"
   ]
  },
  {
   "cell_type": "markdown",
   "id": "b2d1d628",
   "metadata": {},
   "source": [
    "#### a) Python bitwise AND(&) operator\n"
   ]
  },
  {
   "cell_type": "code",
   "execution_count": 51,
   "id": "31f31149",
   "metadata": {},
   "outputs": [
    {
     "name": "stdout",
     "output_type": "stream",
     "text": [
      "0\n"
     ]
    }
   ],
   "source": [
    "print(4&8)"
   ]
  },
  {
   "cell_type": "code",
   "execution_count": 52,
   "id": "65079aa3",
   "metadata": {},
   "outputs": [
    {
     "name": "stdout",
     "output_type": "stream",
     "text": [
      "False\n",
      "True\n",
      "False\n"
     ]
    }
   ],
   "source": [
    "print(True&False) \n",
    "print(True &True) \n",
    "print(False&False)"
   ]
  },
  {
   "cell_type": "markdown",
   "id": "279aba21",
   "metadata": {},
   "source": [
    "#### b) Python OR(|) Operator\n"
   ]
  },
  {
   "cell_type": "code",
   "execution_count": 53,
   "id": "eda5d680",
   "metadata": {},
   "outputs": [
    {
     "name": "stdout",
     "output_type": "stream",
     "text": [
      "7\n",
      "7\n"
     ]
    }
   ],
   "source": [
    "print(6|7)\n",
    "print(0b110|0b001)"
   ]
  },
  {
   "cell_type": "markdown",
   "id": "1ddd4669",
   "metadata": {},
   "source": [
    "#### c) Python bitwise XOR(^) Operator\n"
   ]
  },
  {
   "cell_type": "code",
   "execution_count": 54,
   "id": "48e4fbdb",
   "metadata": {},
   "outputs": [
    {
     "name": "stdout",
     "output_type": "stream",
     "text": [
      "0\n",
      "5\n"
     ]
    }
   ],
   "source": [
    "print(6^6)\n",
    "print(6^3)"
   ]
  },
  {
   "cell_type": "markdown",
   "id": "1d031a37",
   "metadata": {},
   "source": [
    "#### d) Python Bitwise 1’s Complement (~)\n"
   ]
  },
  {
   "cell_type": "code",
   "execution_count": 55,
   "id": "d1d11e04",
   "metadata": {},
   "outputs": [
    {
     "name": "stdout",
     "output_type": "stream",
     "text": [
      "-3\n",
      "0b10\n",
      "-0b11\n"
     ]
    }
   ],
   "source": [
    "print(~2) \n",
    "print(bin(2)) \n",
    "print(bin(-3))"
   ]
  },
  {
   "cell_type": "markdown",
   "id": "dbb9c4c9",
   "metadata": {},
   "source": [
    "#### e) Python Bitwise Left-Shift Operator (<<)\n"
   ]
  },
  {
   "cell_type": "code",
   "execution_count": 56,
   "id": "178fe16d",
   "metadata": {},
   "outputs": [
    {
     "name": "stdout",
     "output_type": "stream",
     "text": [
      "0b11\n",
      "12\n",
      "0b1100\n"
     ]
    }
   ],
   "source": [
    "print(bin(3))\n",
    "print(3<<2) \n",
    "print(bin(12))"
   ]
  },
  {
   "cell_type": "markdown",
   "id": "8d010f63",
   "metadata": {},
   "source": [
    "#### f) Python Bitwise Right-Shift Operator (>>)\n"
   ]
  },
  {
   "cell_type": "code",
   "execution_count": 58,
   "id": "2e1f4150",
   "metadata": {},
   "outputs": [
    {
     "name": "stdout",
     "output_type": "stream",
     "text": [
      "0b11\n",
      "1\n",
      "0b1\n"
     ]
    }
   ],
   "source": [
    "print(bin(3)) \n",
    "print(3>>1) \n",
    "print(bin(1))"
   ]
  },
  {
   "cell_type": "markdown",
   "id": "0dc53fc2",
   "metadata": {},
   "source": [
    "### RELATIONAL OPERATORS"
   ]
  },
  {
   "cell_type": "code",
   "execution_count": 59,
   "id": "494409b1",
   "metadata": {},
   "outputs": [
    {
     "name": "stdout",
     "output_type": "stream",
     "text": [
      "False\n",
      "True\n",
      "False\n",
      "True\n",
      "False\n",
      "True\n"
     ]
    }
   ],
   "source": [
    "print(5<2)\n",
    "print(5>2)\n",
    "print(5<=2)\n",
    "print(5>=2)\n",
    "print(5==2)\n",
    "print(5!=2)"
   ]
  },
  {
   "cell_type": "markdown",
   "id": "8c34dafd",
   "metadata": {},
   "source": [
    "### IN-PLACE OPERATORS"
   ]
  },
  {
   "cell_type": "markdown",
   "id": "5200a02e",
   "metadata": {},
   "source": [
    "#### a) iadd()"
   ]
  },
  {
   "cell_type": "code",
   "execution_count": 60,
   "id": "b9c5b29a",
   "metadata": {},
   "outputs": [
    {
     "name": "stdout",
     "output_type": "stream",
     "text": [
      "11\n"
     ]
    }
   ],
   "source": [
    "import operator \n",
    "a=operator.iadd(5,6) \n",
    "print(a)"
   ]
  },
  {
   "cell_type": "markdown",
   "id": "d3c25ce3",
   "metadata": {},
   "source": [
    "#### b) isub()\n"
   ]
  },
  {
   "cell_type": "code",
   "execution_count": 61,
   "id": "b141d6d1",
   "metadata": {},
   "outputs": [
    {
     "name": "stdout",
     "output_type": "stream",
     "text": [
      "-1\n"
     ]
    }
   ],
   "source": [
    "a=operator.isub(5,6) \n",
    "print(a)"
   ]
  },
  {
   "cell_type": "markdown",
   "id": "b229e9b9",
   "metadata": {},
   "source": [
    "#### c) imul()\n"
   ]
  },
  {
   "cell_type": "code",
   "execution_count": 62,
   "id": "eabc81d6",
   "metadata": {},
   "outputs": [
    {
     "name": "stdout",
     "output_type": "stream",
     "text": [
      "30\n"
     ]
    }
   ],
   "source": [
    "a=operator.imul(5,6) \n",
    "print(a)"
   ]
  },
  {
   "cell_type": "markdown",
   "id": "689559c7",
   "metadata": {},
   "source": [
    "#### d) itruediv()\n"
   ]
  },
  {
   "cell_type": "code",
   "execution_count": 63,
   "id": "ea8dabed",
   "metadata": {},
   "outputs": [
    {
     "name": "stdout",
     "output_type": "stream",
     "text": [
      "5.0\n"
     ]
    }
   ],
   "source": [
    "a=operator.itruediv(30,6) \n",
    "print(a)"
   ]
  },
  {
   "cell_type": "markdown",
   "id": "1fd79683",
   "metadata": {},
   "source": [
    "#### e) imod()\n"
   ]
  },
  {
   "cell_type": "code",
   "execution_count": 64,
   "id": "5e24ddc2",
   "metadata": {},
   "outputs": [
    {
     "name": "stdout",
     "output_type": "stream",
     "text": [
      "0\n"
     ]
    }
   ],
   "source": [
    "a=operator.imod(30,6) \n",
    "print(a)"
   ]
  },
  {
   "cell_type": "markdown",
   "id": "76f48e7b",
   "metadata": {},
   "source": [
    "#### f) iconcat()\n"
   ]
  },
  {
   "cell_type": "code",
   "execution_count": 65,
   "id": "47c9759e",
   "metadata": {},
   "outputs": [
    {
     "name": "stdout",
     "output_type": "stream",
     "text": [
      "Ikusei Rocks!\n"
     ]
    }
   ],
   "source": [
    "a=\"Ikusei \" \n",
    "b=\"Rocks!\"\n",
    "c=operator.iconcat(a,b)\n",
    "print(c)"
   ]
  },
  {
   "cell_type": "markdown",
   "id": "abeb70fb",
   "metadata": {},
   "source": [
    "### Note:- You only need to import operator once"
   ]
  },
  {
   "cell_type": "markdown",
   "id": "46e6e1cc",
   "metadata": {},
   "source": [
    "### NUMERAL SYSTEMS"
   ]
  },
  {
   "cell_type": "markdown",
   "id": "3cd09b2d",
   "metadata": {},
   "source": [
    "### Conversions of different numeral systems"
   ]
  },
  {
   "cell_type": "code",
   "execution_count": 67,
   "id": "ddd6e684",
   "metadata": {},
   "outputs": [
    {
     "name": "stdout",
     "output_type": "stream",
     "text": [
      "Decimal value :  15\n",
      "Binary value :  0b1111\n",
      "Octal value :  0o17\n",
      "Hexadecimal value :  0xf\n"
     ]
    }
   ],
   "source": [
    "a=15\n",
    "print(\"Decimal value : \",a) \n",
    "print(\"Binary value : \",bin(a)) \n",
    "print(\"Octal value : \",oct(a)) \n",
    "print(\"Hexadecimal value : \",hex(a))"
   ]
  },
  {
   "cell_type": "code",
   "execution_count": 70,
   "id": "08ee5254",
   "metadata": {},
   "outputs": [
    {
     "name": "stdout",
     "output_type": "stream",
     "text": [
      "0b111000\n",
      "0b10000110010\n",
      "0b111100011\n"
     ]
    }
   ],
   "source": [
    "print(bin(56)) # decimal, to binary c \n",
    "print(bin(0x432)) # hexadecimal, to binary \n",
    "print (bin (0o743)) # octal. to binary]"
   ]
  },
  {
   "cell_type": "markdown",
   "id": "a6df7078",
   "metadata": {},
   "source": [
    "### PYTHON INPUT() AND OUTPUT() FUNCTION"
   ]
  },
  {
   "cell_type": "code",
   "execution_count": null,
   "id": "b4c93d62",
   "metadata": {},
   "outputs": [],
   "source": []
  }
 ],
 "metadata": {
  "kernelspec": {
   "display_name": "Python 3 (ipykernel)",
   "language": "python",
   "name": "python3"
  },
  "language_info": {
   "codemirror_mode": {
    "name": "ipython",
    "version": 3
   },
   "file_extension": ".py",
   "mimetype": "text/x-python",
   "name": "python",
   "nbconvert_exporter": "python",
   "pygments_lexer": "ipython3",
   "version": "3.9.6"
  }
 },
 "nbformat": 4,
 "nbformat_minor": 5
}
