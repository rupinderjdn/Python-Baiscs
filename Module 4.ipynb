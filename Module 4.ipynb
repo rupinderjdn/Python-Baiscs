{
 "cells": [
  {
   "cell_type": "markdown",
   "id": "6297b42e",
   "metadata": {},
   "source": [
    "# FILE HANDLING"
   ]
  },
  {
   "cell_type": "markdown",
   "id": "59e2c6a7",
   "metadata": {},
   "source": [
    "## 1) TEXT FILES \n"
   ]
  },
  {
   "cell_type": "markdown",
   "id": "755b9e2e",
   "metadata": {},
   "source": [
    "### Reading a file"
   ]
  },
  {
   "cell_type": "code",
   "execution_count": 1,
   "id": "a915ff18",
   "metadata": {},
   "outputs": [
    {
     "name": "stdout",
     "output_type": "stream",
     "text": [
      "Ikusei Welcomes You!\n"
     ]
    }
   ],
   "source": [
    "file=open(\"message.txt\", 'r') \n",
    "a=file.read()\n",
    "print(a)\n",
    "file.close()"
   ]
  },
  {
   "cell_type": "markdown",
   "id": "20efab91",
   "metadata": {},
   "source": [
    "### Writing the file"
   ]
  },
  {
   "cell_type": "code",
   "execution_count": 2,
   "id": "4be30a9d",
   "metadata": {},
   "outputs": [
    {
     "name": "stdout",
     "output_type": "stream",
     "text": [
      "35\n"
     ]
    }
   ],
   "source": [
    "file=open(\"reply.txt\", 'w') \n",
    "a=file.write(\"I am really excited to join Ikusei \") \n",
    "print(a)\n",
    "file.close()"
   ]
  },
  {
   "cell_type": "markdown",
   "id": "ebd6a28b",
   "metadata": {},
   "source": [
    "### Reading the above file"
   ]
  },
  {
   "cell_type": "code",
   "execution_count": 3,
   "id": "6dd61470",
   "metadata": {},
   "outputs": [
    {
     "name": "stdout",
     "output_type": "stream",
     "text": [
      "I am really excited to join Ikusei \n"
     ]
    }
   ],
   "source": [
    "file=open(\"reply.txt\",\"r\") \n",
    "b=file.read()\n",
    "print(b)\n",
    "file.close()"
   ]
  },
  {
   "cell_type": "markdown",
   "id": "727ace0a",
   "metadata": {},
   "source": [
    "### Writing in a file"
   ]
  },
  {
   "cell_type": "code",
   "execution_count": 4,
   "id": "720651f9",
   "metadata": {},
   "outputs": [
    {
     "name": "stdout",
     "output_type": "stream",
     "text": [
      "28\n"
     ]
    }
   ],
   "source": [
    "file=open(\"reply.txt\",'w')\n",
    "a=file.write(\"It will be a great journey .\") \n",
    "print(a)\n",
    "file.close()"
   ]
  },
  {
   "cell_type": "markdown",
   "id": "1b6f72a2",
   "metadata": {},
   "source": [
    "### Reading the above file"
   ]
  },
  {
   "cell_type": "code",
   "execution_count": 5,
   "id": "c9e46bba",
   "metadata": {},
   "outputs": [
    {
     "name": "stdout",
     "output_type": "stream",
     "text": [
      "It will be a great journey .\n"
     ]
    }
   ],
   "source": [
    "file=open(\"reply.txt\",\"r\") \n",
    "b=file.read()\n",
    "print(b)\n",
    "file.close()"
   ]
  },
  {
   "cell_type": "markdown",
   "id": "a1e5161c",
   "metadata": {},
   "source": [
    "### Reading the above file"
   ]
  },
  {
   "cell_type": "code",
   "execution_count": 6,
   "id": "851aa69d",
   "metadata": {},
   "outputs": [
    {
     "name": "stdout",
     "output_type": "stream",
     "text": [
      "It wil\n",
      "l be a great journey .\n",
      "\n",
      "<class 'str'>\n"
     ]
    }
   ],
   "source": [
    "file=open(\"reply.txt\",\"r\") \n",
    "b=file.read(6) \n",
    "c=file.read() \n",
    "d=file.read() \n",
    "print(b) \n",
    "print(c) \n",
    "print(d) \n",
    "print(type(b)) \n",
    "file.close()"
   ]
  },
  {
   "cell_type": "markdown",
   "id": "b03f1916",
   "metadata": {},
   "source": [
    "### Appending in the file"
   ]
  },
  {
   "cell_type": "code",
   "execution_count": 7,
   "id": "548708f7",
   "metadata": {},
   "outputs": [
    {
     "name": "stdout",
     "output_type": "stream",
     "text": [
      "48\n",
      "It will be a great journey .I am excited to learn various new technologies .\n"
     ]
    }
   ],
   "source": [
    "file=open(\"reply.txt\",'a+')\n",
    "a=file.write(\"I am excited to learn various new technologies .\") \n",
    "print(a)\n",
    "file.seek(0)\n",
    "b=file.read()\n",
    "print(b)\n",
    "file.close()"
   ]
  },
  {
   "cell_type": "markdown",
   "id": "c6a82312",
   "metadata": {},
   "source": [
    "### Different modes to read from a file"
   ]
  },
  {
   "cell_type": "code",
   "execution_count": 8,
   "id": "437e5213",
   "metadata": {},
   "outputs": [
    {
     "name": "stdout",
     "output_type": "stream",
     "text": [
      "<class 'str'>\n",
      "It will be a great journey .I am excited to learn various new technologies .\n",
      "<class 'str'>\n",
      "It will be a great journey .I am excited to learn various new technologies .\n",
      "<class 'list'>\n",
      "['It will be a great journey .I am excited to learn various new technologies .']\n"
     ]
    }
   ],
   "source": [
    "file=open(\"reply.txt\",'r') \n",
    "a=file.read() \n",
    "print(type(a))\n",
    "print(a)\n",
    "file.seek(0)\n",
    "\n",
    "b=file.readline() \n",
    "print(type(b))\n",
    "print(b)\n",
    "file.seek(0)\n",
    "\n",
    "c=file.readlines()\n",
    "print(type(c)) \n",
    "print(c)"
   ]
  },
  {
   "cell_type": "markdown",
   "id": "7e32c4f7",
   "metadata": {},
   "source": [
    "### Better way to open files"
   ]
  },
  {
   "cell_type": "code",
   "execution_count": 9,
   "id": "13c78229",
   "metadata": {},
   "outputs": [
    {
     "name": "stdout",
     "output_type": "stream",
     "text": [
      "It will be a great journey .I am excited to learn various new technologies .\n",
      "\n",
      "\n",
      "\n"
     ]
    }
   ],
   "source": [
    "with open(\"reply.txt\",\"r\") as file: \n",
    "    print(file.read()) \n",
    "    file.seek(76) \n",
    "    print(\"\\n\") \n",
    "    print(file.read())"
   ]
  },
  {
   "cell_type": "markdown",
   "id": "504f22a5",
   "metadata": {},
   "source": [
    "## 2) JSON( JAVASCRIPT OBJECT NOTATION ) "
   ]
  },
  {
   "cell_type": "code",
   "execution_count": 10,
   "id": "82aeb486",
   "metadata": {},
   "outputs": [
    {
     "name": "stdout",
     "output_type": "stream",
     "text": [
      "{\n",
      "    \"name\": \"Toyota\",\n",
      "    \"mileage\": 30, \n",
      "    \"gears\": [1,2,3,4]\n",
      "}\n"
     ]
    }
   ],
   "source": [
    "with open(\"data.json\",\"r\") as file: \n",
    "    print(file.read())"
   ]
  },
  {
   "cell_type": "code",
   "execution_count": 11,
   "id": "2ec6fa93",
   "metadata": {},
   "outputs": [
    {
     "name": "stdout",
     "output_type": "stream",
     "text": [
      "Toyota\n",
      "30\n",
      "4\n"
     ]
    }
   ],
   "source": [
    "import json\n",
    "with open(\"data.json\",\"r\")as file: \n",
    "    d= json.load(file) \n",
    "    print(d[\"name\"]) \n",
    "    print(d[\"mileage\"]) \n",
    "    print(d[\"gears\"][3])"
   ]
  },
  {
   "cell_type": "code",
   "execution_count": 12,
   "id": "8abd7e57",
   "metadata": {},
   "outputs": [
    {
     "name": "stdout",
     "output_type": "stream",
     "text": [
      "Toyota\n",
      "30\n",
      "4\n"
     ]
    }
   ],
   "source": [
    "import json\n",
    "with open(\"data.json\",\"r\")as file:\n",
    "    data = file.read() \n",
    "    d= json.loads(data) \n",
    "    print(d[\"name\"]) \n",
    "    print(d[\"mileage\"])\n",
    "    print(d[\"gears\"][3])"
   ]
  },
  {
   "cell_type": "markdown",
   "id": "1a7964ec",
   "metadata": {},
   "source": [
    "### 2) Converting a user-defined dictionary into a json file\n"
   ]
  },
  {
   "cell_type": "code",
   "execution_count": 13,
   "id": "1227bf8a",
   "metadata": {},
   "outputs": [
    {
     "name": "stdout",
     "output_type": "stream",
     "text": [
      "{\"name\": \"ikusei\", \"course\": \"Data science and ML\", \"fees\": 50000}\n",
      "<class 'str'>\n"
     ]
    }
   ],
   "source": [
    "d={\"name\":\"ikusei\",\"course\":\"Data science and ML\",\"fees\":50000} \n",
    "string = json.dumps(d) \n",
    "print(string) \n",
    "print(type(string))"
   ]
  },
  {
   "cell_type": "code",
   "execution_count": 14,
   "id": "2195d800",
   "metadata": {},
   "outputs": [
    {
     "name": "stdout",
     "output_type": "stream",
     "text": [
      "{\"name\": \"ikusei\", \"course\": \"Data science and ML\", \"fees\": 50000}\n"
     ]
    }
   ],
   "source": [
    "d={\"name\":\"ikusei\",\"course\":\"Data science and ML\",\"fees\":50000} \n",
    "with open(\"data2.json\",\"w\")as file:\n",
    "    json. dump(d, file)\n",
    "with open(\"data2.json\",\"r\")as file:\n",
    "    print(file.read())"
   ]
  },
  {
   "cell_type": "markdown",
   "id": "e2c45793",
   "metadata": {},
   "source": [
    "# ADVANCED FUNCTIONALITIES"
   ]
  },
  {
   "cell_type": "markdown",
   "id": "23633983",
   "metadata": {},
   "source": [
    "### 1) map"
   ]
  },
  {
   "cell_type": "code",
   "execution_count": 15,
   "id": "19869ee3",
   "metadata": {},
   "outputs": [
    {
     "name": "stdout",
     "output_type": "stream",
     "text": [
      "<map object at 0x0000021D48C85FD0>\n",
      "[6, 6, 12]\n"
     ]
    }
   ],
   "source": [
    "def myfunc(n):\n",
    "    return len(n)\n",
    "x = map(myfunc, ('Ikusei', 'Python', 'Data Science'))\n",
    "print(x)\n",
    "print(list(x))"
   ]
  },
  {
   "cell_type": "markdown",
   "id": "35189647",
   "metadata": {},
   "source": [
    "#### Converting Data Types"
   ]
  },
  {
   "cell_type": "code",
   "execution_count": 16,
   "id": "dcb43e95",
   "metadata": {},
   "outputs": [
    {
     "name": "stdout",
     "output_type": "stream",
     "text": [
      "<class 'str'> 1\n",
      "<class 'int'> 1\n"
     ]
    }
   ],
   "source": [
    "nums=['1','3','5','90']\n",
    "print(type(nums[0]),nums[0])\n",
    "numi=list(map(int,nums)) \n",
    "print(type(numi[0]),numi[0])"
   ]
  },
  {
   "cell_type": "code",
   "execution_count": 17,
   "id": "184d10cb",
   "metadata": {},
   "outputs": [
    {
     "name": "stdout",
     "output_type": "stream",
     "text": [
      "['IKUSEI', 'PYTHON', 'DATA SCIENCE']\n",
      "['ikusei', 'python', 'data science']\n"
     ]
    }
   ],
   "source": [
    "string=[\"Ikusei\",\"Python\",\"Data Science\"] \n",
    "print(list(map(str.upper,string))) \n",
    "print(list(map(str.lower,string)))"
   ]
  },
  {
   "cell_type": "markdown",
   "id": "c268d17a",
   "metadata": {},
   "source": [
    "### 2) lambdas"
   ]
  },
  {
   "cell_type": "code",
   "execution_count": 18,
   "id": "aee1cdd8",
   "metadata": {},
   "outputs": [
    {
     "name": "stdout",
     "output_type": "stream",
     "text": [
      "4\n"
     ]
    }
   ],
   "source": [
    "def func(n): \n",
    "    return n \n",
    "print(func(4))"
   ]
  },
  {
   "cell_type": "code",
   "execution_count": 19,
   "id": "85546ba8",
   "metadata": {},
   "outputs": [
    {
     "name": "stdout",
     "output_type": "stream",
     "text": [
      "3\n"
     ]
    }
   ],
   "source": [
    "func=lambda n:n\n",
    "print(func(3))"
   ]
  },
  {
   "cell_type": "markdown",
   "id": "ac65b6fa",
   "metadata": {},
   "source": [
    "#### Using lambda() with filter()\n"
   ]
  },
  {
   "cell_type": "code",
   "execution_count": 20,
   "id": "d0c21ae6",
   "metadata": {},
   "outputs": [
    {
     "name": "stdout",
     "output_type": "stream",
     "text": [
      "[2, 4, 6, 8, 10]\n"
     ]
    }
   ],
   "source": [
    "my_list=[1,2,3,4,5,6,7,8,9,10]\n",
    "even_list=list(filter(lambda num:num%2==0,my_list)) \n",
    "print(even_list)"
   ]
  },
  {
   "cell_type": "markdown",
   "id": "90aa9afd",
   "metadata": {},
   "source": [
    "#### Using lambda() with map()\n"
   ]
  },
  {
   "cell_type": "code",
   "execution_count": 21,
   "id": "bc69bfc2",
   "metadata": {},
   "outputs": [
    {
     "name": "stdout",
     "output_type": "stream",
     "text": [
      "[2, 4, 6, 8, 10]\n"
     ]
    }
   ],
   "source": [
    "seq=[1,2,3,4,5]\n",
    "print(list(map(lambda num:num*2,seq)))"
   ]
  },
  {
   "cell_type": "markdown",
   "id": "4ae98a4f",
   "metadata": {},
   "source": [
    "#### Using lambda() with reduce()\n"
   ]
  },
  {
   "cell_type": "markdown",
   "id": "04315a18",
   "metadata": {},
   "source": [
    "##### To get the summation of the list"
   ]
  },
  {
   "cell_type": "code",
   "execution_count": 22,
   "id": "ec339506",
   "metadata": {},
   "outputs": [
    {
     "name": "stdout",
     "output_type": "stream",
     "text": [
      "55\n"
     ]
    }
   ],
   "source": [
    "from functools import reduce \n",
    "my_list=[1,2,3,4,5,6,7,8,9,10] \n",
    "sum=reduce(lambda x,y:x+y ,my_list) \n",
    "print (sum)"
   ]
  },
  {
   "cell_type": "markdown",
   "id": "760969cf",
   "metadata": {},
   "source": [
    "##### To get the maximum"
   ]
  },
  {
   "cell_type": "code",
   "execution_count": 23,
   "id": "ce010b86",
   "metadata": {},
   "outputs": [
    {
     "name": "stdout",
     "output_type": "stream",
     "text": [
      "10\n"
     ]
    }
   ],
   "source": [
    "max_val=reduce(lambda a,b:a if a>b else b , my_list)\n",
    "print(max_val)"
   ]
  },
  {
   "cell_type": "markdown",
   "id": "93112580",
   "metadata": {},
   "source": [
    "### 3) Generators in python "
   ]
  },
  {
   "cell_type": "code",
   "execution_count": 24,
   "id": "68c18b6b",
   "metadata": {},
   "outputs": [
    {
     "name": "stdout",
     "output_type": "stream",
     "text": [
      "Ikusei\n",
      "264\n",
      "Pyhton\n"
     ]
    }
   ],
   "source": [
    "def generator_for_iter(): \n",
    "    yield 'Ikusei' \n",
    "    yield 264 \n",
    "    yield 'Pyhton'\n",
    "for i in generator_for_iter(): \n",
    "    print(i)"
   ]
  },
  {
   "cell_type": "code",
   "execution_count": 25,
   "id": "04b68dd2",
   "metadata": {},
   "outputs": [],
   "source": [
    "def generator_for_iter(): \n",
    "    yield 'Ikusei' \n",
    "    yield 264 \n",
    "    yield 'Pyhton'\n",
    "a=generator_for_iter()"
   ]
  },
  {
   "cell_type": "code",
   "execution_count": 26,
   "id": "828f1c9d",
   "metadata": {},
   "outputs": [
    {
     "data": {
      "text/plain": [
       "'Ikusei'"
      ]
     },
     "execution_count": 26,
     "metadata": {},
     "output_type": "execute_result"
    }
   ],
   "source": [
    "a.__next__()"
   ]
  },
  {
   "cell_type": "code",
   "execution_count": 27,
   "id": "181a3a89",
   "metadata": {},
   "outputs": [
    {
     "data": {
      "text/plain": [
       "264"
      ]
     },
     "execution_count": 27,
     "metadata": {},
     "output_type": "execute_result"
    }
   ],
   "source": [
    "a.__next__()"
   ]
  },
  {
   "cell_type": "code",
   "execution_count": 28,
   "id": "d588ecfb",
   "metadata": {},
   "outputs": [
    {
     "data": {
      "text/plain": [
       "'Pyhton'"
      ]
     },
     "execution_count": 28,
     "metadata": {},
     "output_type": "execute_result"
    }
   ],
   "source": [
    "a.__next__()"
   ]
  },
  {
   "cell_type": "code",
   "execution_count": 29,
   "id": "26418791",
   "metadata": {},
   "outputs": [],
   "source": [
    "#a.__next__()-> As the values are finished this line will return an error"
   ]
  },
  {
   "cell_type": "markdown",
   "id": "fc591977",
   "metadata": {},
   "source": [
    "### 4) Directories in python"
   ]
  },
  {
   "cell_type": "code",
   "execution_count": 30,
   "id": "41ae5edb",
   "metadata": {},
   "outputs": [],
   "source": [
    "import os"
   ]
  },
  {
   "cell_type": "code",
   "execution_count": 31,
   "id": "23fac5f5",
   "metadata": {},
   "outputs": [
    {
     "data": {
      "text/plain": [
       "'C:\\\\Users\\\\SYSTEM H821\\\\Documents\\\\Python'"
      ]
     },
     "execution_count": 31,
     "metadata": {},
     "output_type": "execute_result"
    }
   ],
   "source": [
    "os.getcwd()"
   ]
  },
  {
   "cell_type": "code",
   "execution_count": 32,
   "id": "4e9942e6",
   "metadata": {},
   "outputs": [],
   "source": [
    "os.chdir('C:\\\\Users\\\\SYSTEM H821\\\\Documents\\\\Python')"
   ]
  },
  {
   "cell_type": "code",
   "execution_count": 33,
   "id": "6e88cbff",
   "metadata": {},
   "outputs": [],
   "source": [
    "# Run code from your PC here"
   ]
  },
  {
   "cell_type": "markdown",
   "id": "13fd6d78",
   "metadata": {},
   "source": [
    "# ERROR AND EXCEPTION HANDLING"
   ]
  },
  {
   "cell_type": "code",
   "execution_count": 34,
   "id": "002a700f",
   "metadata": {},
   "outputs": [],
   "source": [
    "#=a5"
   ]
  },
  {
   "cell_type": "code",
   "execution_count": 35,
   "id": "1eff6f16",
   "metadata": {},
   "outputs": [
    {
     "name": "stdout",
     "output_type": "stream",
     "text": [
      "ikusei\n",
      "Welcomes You\n"
     ]
    }
   ],
   "source": [
    "print(\"ikusei\")\n",
    "#print(10/0)-> error\n",
    "print(\"Welcomes You\")"
   ]
  },
  {
   "cell_type": "code",
   "execution_count": 36,
   "id": "4d115682",
   "metadata": {},
   "outputs": [
    {
     "data": {
      "text/plain": [
       "2.0"
      ]
     },
     "execution_count": 36,
     "metadata": {},
     "output_type": "execute_result"
    }
   ],
   "source": [
    "def div(a,b):\n",
    "    return a/b\n",
    "div(4,2)\n",
    "#div(10,0)"
   ]
  },
  {
   "cell_type": "code",
   "execution_count": 37,
   "id": "cd1a6b9a",
   "metadata": {},
   "outputs": [],
   "source": [
    "def div(a , b):\n",
    "    try:\n",
    "        print(a/b)\n",
    "    except:\n",
    "        print('Error !') \n",
    "    print(\"Your program has executed\")"
   ]
  },
  {
   "cell_type": "code",
   "execution_count": 38,
   "id": "3b806f7c",
   "metadata": {},
   "outputs": [
    {
     "name": "stdout",
     "output_type": "stream",
     "text": [
      "2.0\n",
      "Your program has executed\n"
     ]
    }
   ],
   "source": [
    "div(4,2)\n",
    "#div(10,0)"
   ]
  },
  {
   "cell_type": "code",
   "execution_count": 39,
   "id": "5bb52217",
   "metadata": {},
   "outputs": [],
   "source": [
    "#10/0"
   ]
  },
  {
   "cell_type": "code",
   "execution_count": 40,
   "id": "d0a5a6bf",
   "metadata": {},
   "outputs": [
    {
     "name": "stdout",
     "output_type": "stream",
     "text": [
      "You are dividing a number by 0\n"
     ]
    }
   ],
   "source": [
    "try:\n",
    "    print(10/0)\n",
    "except ZeroDivisionError:\n",
    "    print(\"You are dividing a number by 0\")"
   ]
  },
  {
   "cell_type": "code",
   "execution_count": 41,
   "id": "e22b4df2",
   "metadata": {},
   "outputs": [],
   "source": [
    "#try:\n",
    "    #print(*12)\n",
    "#except ZeroDivisionError:\n",
    "    #print(\"You are dividing a number by 0\")"
   ]
  },
  {
   "cell_type": "code",
   "execution_count": 42,
   "id": "0fc98c45",
   "metadata": {},
   "outputs": [
    {
     "name": "stdout",
     "output_type": "stream",
     "text": [
      "error!\n"
     ]
    }
   ],
   "source": [
    "try:\n",
    "    print(*12)\n",
    "except ZeroDivisionError:\n",
    "    print(\"You are dividing a number by 0\")\n",
    "except:\n",
    "    print(\"error!\")"
   ]
  },
  {
   "cell_type": "code",
   "execution_count": 43,
   "id": "0a69640b",
   "metadata": {},
   "outputs": [
    {
     "name": "stdout",
     "output_type": "stream",
     "text": [
      "A string value cannot be converted to integer\n"
     ]
    }
   ],
   "source": [
    "try:\n",
    "    print(int(\"Ikusei\"))\n",
    "except ZeroDivisionError:\n",
    "    print(\"You are dividing a number by 0\")\n",
    "except ValueError:\n",
    "    print(\"A string value cannot be converted to integer\")\n",
    "except:\n",
    "    print(\"error!\")"
   ]
  },
  {
   "cell_type": "code",
   "execution_count": 44,
   "id": "c351c1d6",
   "metadata": {},
   "outputs": [
    {
     "name": "stdout",
     "output_type": "stream",
     "text": [
      "invalid literal for int() with base 10: 'ikuesei'\n"
     ]
    }
   ],
   "source": [
    "try:\n",
    "    print(int(\"ikuesei\"))\n",
    "except Exception as e:\n",
    "    print(e)"
   ]
  },
  {
   "cell_type": "code",
   "execution_count": 45,
   "id": "6f9b0510",
   "metadata": {},
   "outputs": [
    {
     "name": "stdout",
     "output_type": "stream",
     "text": [
      "division by zero\n"
     ]
    }
   ],
   "source": [
    "try:\n",
    "    print(10/0)\n",
    "except Exception as e:\n",
    "    print(e)"
   ]
  },
  {
   "cell_type": "code",
   "execution_count": 46,
   "id": "e1f4db12",
   "metadata": {},
   "outputs": [
    {
     "name": "stdout",
     "output_type": "stream",
     "text": [
      "name 'variable' is not defined\n"
     ]
    }
   ],
   "source": [
    "try:\n",
    "    print(variable)\n",
    "except Exception as e:\n",
    "    print(e)"
   ]
  },
  {
   "cell_type": "markdown",
   "id": "0ebd2729",
   "metadata": {},
   "source": [
    "#### Custom Exception"
   ]
  },
  {
   "cell_type": "code",
   "execution_count": 47,
   "id": "262aebd3",
   "metadata": {},
   "outputs": [
    {
     "name": "stdout",
     "output_type": "stream",
     "text": [
      "My Custom error\n"
     ]
    }
   ],
   "source": [
    "try:\n",
    "    raise Exception(\"My Custom error\")\n",
    "except Exception as e:\n",
    "    print(e)"
   ]
  },
  {
   "cell_type": "markdown",
   "id": "fcdcba9c",
   "metadata": {},
   "source": [
    "#### Custom Error Class"
   ]
  },
  {
   "cell_type": "code",
   "execution_count": 48,
   "id": "6a92bd5a",
   "metadata": {},
   "outputs": [],
   "source": [
    "class MyException:\n",
    "    def __init__(self,message):\n",
    "        self.message=message\n",
    "    def __str___(self):\n",
    "        return self.message"
   ]
  },
  {
   "cell_type": "code",
   "execution_count": 49,
   "id": "7e341d0e",
   "metadata": {},
   "outputs": [
    {
     "name": "stdout",
     "output_type": "stream",
     "text": [
      "exceptions must derive from BaseException\n"
     ]
    }
   ],
   "source": [
    "try:\n",
    "    raise MyException(\"My Custom error\")\n",
    "except Exception as e:\n",
    "    print(e)"
   ]
  },
  {
   "cell_type": "code",
   "execution_count": 50,
   "id": "8b556f12",
   "metadata": {},
   "outputs": [],
   "source": [
    "class MyException(Exception):\n",
    "    def __init__(self,message):\n",
    "        self.message=message\n",
    "    def __str___(self):\n",
    "        return self.message"
   ]
  },
  {
   "cell_type": "code",
   "execution_count": 51,
   "id": "a1ecfe2f",
   "metadata": {},
   "outputs": [
    {
     "name": "stdout",
     "output_type": "stream",
     "text": [
      "My Custom error\n"
     ]
    }
   ],
   "source": [
    "try:\n",
    "    raise MyException(\"My Custom error\")\n",
    "except Exception as e:\n",
    "    print(e)"
   ]
  },
  {
   "cell_type": "markdown",
   "id": "f38c81c6",
   "metadata": {},
   "source": [
    "### Smart Ways"
   ]
  },
  {
   "cell_type": "code",
   "execution_count": 52,
   "id": "91fe2495",
   "metadata": {},
   "outputs": [
    {
     "name": "stdout",
     "output_type": "stream",
     "text": [
      "Program started\n",
      "6.0\n",
      "success\n",
      "Program ended\n"
     ]
    }
   ],
   "source": [
    "try:\n",
    "    print(\"Program started\") \n",
    "    print(78/13)\n",
    "except:\n",
    "    print(\"sorry an error occured\") \n",
    "else:\n",
    "    print(\"success\")\n",
    "finally:\n",
    "    print(\"Program ended\")"
   ]
  },
  {
   "cell_type": "code",
   "execution_count": 53,
   "id": "0f8abdee",
   "metadata": {},
   "outputs": [
    {
     "name": "stdout",
     "output_type": "stream",
     "text": [
      "Program started\n",
      "sorry an error occured\n",
      "Program ended\n"
     ]
    }
   ],
   "source": [
    "try:\n",
    "    print(\"Program started\") \n",
    "    print(10/0)\n",
    "except:\n",
    "    print(\"sorry an error occured\") \n",
    "else:\n",
    "    print(\"success\")\n",
    "finally:\n",
    "    print(\"Program ended\")"
   ]
  },
  {
   "cell_type": "code",
   "execution_count": 54,
   "id": "2e8aa5f2",
   "metadata": {},
   "outputs": [],
   "source": [
    "def func(): \n",
    "    try:\n",
    "        return 1 \n",
    "    except:\n",
    "        return 2 \n",
    "    else:\n",
    "        return 3"
   ]
  },
  {
   "cell_type": "code",
   "execution_count": 55,
   "id": "d4cf5eca",
   "metadata": {},
   "outputs": [
    {
     "data": {
      "text/plain": [
       "1"
      ]
     },
     "execution_count": 55,
     "metadata": {},
     "output_type": "execute_result"
    }
   ],
   "source": [
    "func()"
   ]
  },
  {
   "cell_type": "code",
   "execution_count": 56,
   "id": "7cb7a5cb",
   "metadata": {},
   "outputs": [],
   "source": [
    "def func(): \n",
    "    try:\n",
    "        return 1 \n",
    "    except:\n",
    "        return 2 \n",
    "    else:\n",
    "        return 3\n",
    "    finally:\n",
    "        return 4"
   ]
  },
  {
   "cell_type": "code",
   "execution_count": 57,
   "id": "20f7c9fa",
   "metadata": {},
   "outputs": [
    {
     "data": {
      "text/plain": [
       "4"
      ]
     },
     "execution_count": 57,
     "metadata": {},
     "output_type": "execute_result"
    }
   ],
   "source": [
    "func()"
   ]
  },
  {
   "cell_type": "code",
   "execution_count": 58,
   "id": "b13a9558",
   "metadata": {},
   "outputs": [
    {
     "name": "stdout",
     "output_type": "stream",
     "text": [
      "[Errno 2] No such file or directory: 'something.txt'\n"
     ]
    }
   ],
   "source": [
    "try:\n",
    "    file=open(\"something.txt\") \n",
    "except Exception as e: \n",
    "    print(e)"
   ]
  },
  {
   "cell_type": "code",
   "execution_count": 59,
   "id": "ca3a996f",
   "metadata": {},
   "outputs": [
    {
     "name": "stdout",
     "output_type": "stream",
     "text": [
      "Ikusei Welcomes You!\n"
     ]
    }
   ],
   "source": [
    "try:\n",
    "    file=open(\"message.txt\",\"r\")\n",
    "    print(file.read()) \n",
    "except Exception as e:\n",
    "    print(e)\n",
    "finally :\n",
    "    file.close()"
   ]
  }
 ],
 "metadata": {
  "kernelspec": {
   "display_name": "Python 3 (ipykernel)",
   "language": "python",
   "name": "python3"
  },
  "language_info": {
   "codemirror_mode": {
    "name": "ipython",
    "version": 3
   },
   "file_extension": ".py",
   "mimetype": "text/x-python",
   "name": "python",
   "nbconvert_exporter": "python",
   "pygments_lexer": "ipython3",
   "version": "3.9.6"
  }
 },
 "nbformat": 4,
 "nbformat_minor": 5
}
