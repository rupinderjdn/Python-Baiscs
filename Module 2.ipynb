{
 "cells": [
  {
   "cell_type": "markdown",
   "id": "22064c63",
   "metadata": {},
   "source": [
    "# PYTHON LISTS"
   ]
  },
  {
   "cell_type": "markdown",
   "id": "0bf3d52f",
   "metadata": {},
   "source": [
    "### 2) DEFINING A LIST"
   ]
  },
  {
   "cell_type": "code",
   "execution_count": 1,
   "id": "c27904e6",
   "metadata": {},
   "outputs": [
    {
     "name": "stdout",
     "output_type": "stream",
     "text": [
      "[1, 2, 3, 4]\n"
     ]
    }
   ],
   "source": [
    "x=[1,2,3,4] \n",
    "print(x)"
   ]
  },
  {
   "cell_type": "code",
   "execution_count": 2,
   "id": "7157bb97",
   "metadata": {},
   "outputs": [
    {
     "name": "stdout",
     "output_type": "stream",
     "text": [
      "<class 'list'>\n"
     ]
    }
   ],
   "source": [
    "x=[]\n",
    "print(type(x))"
   ]
  },
  {
   "cell_type": "code",
   "execution_count": 3,
   "id": "3500fa59",
   "metadata": {},
   "outputs": [
    {
     "name": "stdout",
     "output_type": "stream",
     "text": [
      "45 46 23 defg 67\n",
      "['45', '46', '23', 'defg', '67']\n"
     ]
    }
   ],
   "source": [
    "x=list(input().split(\" \")) \n",
    "print(x)"
   ]
  },
  {
   "cell_type": "markdown",
   "id": "9639eff0",
   "metadata": {},
   "source": [
    "### 3) OPERATIONS ON LIST \n"
   ]
  },
  {
   "cell_type": "markdown",
   "id": "8595d0c4",
   "metadata": {},
   "source": [
    "1) Appending "
   ]
  },
  {
   "cell_type": "code",
   "execution_count": 4,
   "id": "e1206f55",
   "metadata": {},
   "outputs": [
    {
     "name": "stdout",
     "output_type": "stream",
     "text": [
      "[1, 2, 3, 4]\n",
      "After appending\n",
      "[1, 2, 3, 4, 5]\n"
     ]
    }
   ],
   "source": [
    "x=[1,2,3,4]\n",
    "print(x)\n",
    "print(\"After appending\") \n",
    "x.append(5)\n",
    "print(x)"
   ]
  },
  {
   "cell_type": "markdown",
   "id": "c81e9ad1",
   "metadata": {},
   "source": [
    "2) Insertion"
   ]
  },
  {
   "cell_type": "code",
   "execution_count": 5,
   "id": "23071507",
   "metadata": {},
   "outputs": [
    {
     "name": "stdout",
     "output_type": "stream",
     "text": [
      "[1, 2, 3, 4]\n",
      "After inserting\n"
     ]
    }
   ],
   "source": [
    "x=[1,2,3,4]\n",
    "print(x)\n",
    "print(\"After inserting\")\n",
    "x.insert(2,56) #56 is added at position 2 print(x)"
   ]
  },
  {
   "cell_type": "markdown",
   "id": "38e16166",
   "metadata": {},
   "source": [
    "3) Remove"
   ]
  },
  {
   "cell_type": "code",
   "execution_count": 6,
   "id": "d55c95af",
   "metadata": {},
   "outputs": [
    {
     "name": "stdout",
     "output_type": "stream",
     "text": [
      "[1, 2, 3, 4]\n",
      "After deleting an element\n",
      "[1, 2, 4]\n"
     ]
    }
   ],
   "source": [
    "x=[1,2,3,4]\n",
    "print(x)\n",
    "print(\"After deleting an element\") \n",
    "x.remove(3) #3 is deLeted from the List \n",
    "print(x)"
   ]
  },
  {
   "cell_type": "markdown",
   "id": "1d146630",
   "metadata": {},
   "source": [
    "4) Popping"
   ]
  },
  {
   "cell_type": "code",
   "execution_count": 7,
   "id": "02028493",
   "metadata": {},
   "outputs": [
    {
     "name": "stdout",
     "output_type": "stream",
     "text": [
      "[1, 2, 3, 4]\n",
      "After deleting an element\n",
      "[1, 3, 4]\n"
     ]
    }
   ],
   "source": [
    "x=[1,2,3,4]\n",
    "print(x)\n",
    "print(\"After deleting an element\")\n",
    "x.pop(1) #element at index 1 is deLeted i.e 2 \n",
    "print(x)"
   ]
  },
  {
   "cell_type": "markdown",
   "id": "f57128a4",
   "metadata": {},
   "source": [
    "5) Clear"
   ]
  },
  {
   "cell_type": "code",
   "execution_count": 8,
   "id": "d75db17d",
   "metadata": {},
   "outputs": [
    {
     "name": "stdout",
     "output_type": "stream",
     "text": [
      "[1, 2, 3, 4]\n",
      "After clearing the list\n",
      "[]\n"
     ]
    }
   ],
   "source": [
    "x=[1,2,3,4]\n",
    "print(x)\n",
    "x.clear() #List is cLeared \n",
    "print(\"After clearing the list\") \n",
    "print(x)"
   ]
  },
  {
   "cell_type": "markdown",
   "id": "b18652e9",
   "metadata": {},
   "source": [
    "6) Count"
   ]
  },
  {
   "cell_type": "code",
   "execution_count": 9,
   "id": "f56a138f",
   "metadata": {},
   "outputs": [
    {
     "name": "stdout",
     "output_type": "stream",
     "text": [
      "Count of 2 is 2\n",
      "Count of 4 is 3\n",
      "Count of 6 is 1\n"
     ]
    }
   ],
   "source": [
    "x=[1,2,2,4,4,4,5,6,7,7,7] \n",
    "print(\"Count of 2 is\",x.count(2)) \n",
    "print(\"Count of 4 is\",x.count(4)) \n",
    "print(\"Count of 6 is\",x.count(6))"
   ]
  },
  {
   "cell_type": "markdown",
   "id": "1a383e32",
   "metadata": {},
   "source": [
    "7) Index"
   ]
  },
  {
   "cell_type": "code",
   "execution_count": 10,
   "id": "7add30a4",
   "metadata": {},
   "outputs": [
    {
     "name": "stdout",
     "output_type": "stream",
     "text": [
      "3\n"
     ]
    }
   ],
   "source": [
    "x=[4,45,78,12,6,4,41,5,7,165,79,61]\n",
    "print(x.index(12,2,6)) #searching for 12 in x from index 2 to 6\n",
    "#print(x.index(12,4,6)) -> searching for 12 in x from index 4 to 6 will return an error"
   ]
  },
  {
   "cell_type": "markdown",
   "id": "f53452cd",
   "metadata": {},
   "source": [
    "8) Sort"
   ]
  },
  {
   "cell_type": "code",
   "execution_count": 11,
   "id": "6e8d3d0d",
   "metadata": {},
   "outputs": [
    {
     "name": "stdout",
     "output_type": "stream",
     "text": [
      "[45, 798, 23, 167, 1, 367, 64, 61]\n",
      "Sorted list in incresing order : \n",
      "[1, 23, 45, 61, 64, 167, 367, 798]\n",
      "Sorted list in decresing order : \n",
      "[798, 367, 167, 64, 61, 45, 23, 1]\n"
     ]
    }
   ],
   "source": [
    "x=[45,798,23,167,1,367,64,61] \n",
    "print(x)\n",
    "x.sort() #defauLt incresing order is taken \n",
    "print(\"Sorted list in incresing order : \") \n",
    "print(x)\n",
    "x.sort(reverse=True)\n",
    "print(\"Sorted list in decresing order : \") \n",
    "print(x)"
   ]
  },
  {
   "cell_type": "markdown",
   "id": "64201f21",
   "metadata": {},
   "source": [
    "In case of strings , if key is not defined then list will get sorted in lexicographical order as in a dictionary.\n"
   ]
  },
  {
   "cell_type": "code",
   "execution_count": 12,
   "id": "fdd790ac",
   "metadata": {},
   "outputs": [
    {
     "name": "stdout",
     "output_type": "stream",
     "text": [
      "List sorted in lexicographical order : \n",
      "['c-plus-plus', 'flutter', 'java', 'python', 'raspberry']\n"
     ]
    }
   ],
   "source": [
    "languages=[\"raspberry\",\"flutter\",\"java\",\"c-plus-plus\",\"python\"] \n",
    "languages.sort()\n",
    "print(\"List sorted in lexicographical order : \") \n",
    "print(languages)"
   ]
  },
  {
   "cell_type": "code",
   "execution_count": 13,
   "id": "179b172e",
   "metadata": {},
   "outputs": [
    {
     "name": "stdout",
     "output_type": "stream",
     "text": [
      "List sorted on the basis of length : \n",
      "['java', 'python', 'flutter', 'raspberry', 'c-plus-plus']\n"
     ]
    }
   ],
   "source": [
    "def func(x):\n",
    "    return len(x)\n",
    "languages.sort(key=func)\n",
    "print(\"List sorted on the basis of length : \") \n",
    "print(languages)"
   ]
  },
  {
   "cell_type": "markdown",
   "id": "a61459b4",
   "metadata": {},
   "source": [
    "9) Copy"
   ]
  },
  {
   "cell_type": "code",
   "execution_count": 14,
   "id": "345bde5e",
   "metadata": {},
   "outputs": [
    {
     "name": "stdout",
     "output_type": "stream",
     "text": [
      "List 1 :  ['raspberry', 'flutter', ' java', 'c-plus-plus', 'python']\n",
      "List 2 :  []\n",
      "After copying\n",
      "List 1 :  ['raspberry', 'flutter', ' java', 'c-plus-plus', 'python']\n",
      "list 2 :  ['raspberry', 'flutter', ' java', 'c-plus-plus', 'python']\n"
     ]
    }
   ],
   "source": [
    "listl=[\"raspberry\",\"flutter\",\" java\",\"c-plus-plus\",\"python\"] \n",
    "list2=[] # List2 is empty\n",
    "print(\"List 1 : \",listl)\n",
    "print(\"List 2 : \",list2) \n",
    "list2=listl.copy() # copying eLements of List 1 in List 2 \n",
    "print(\"After copying\")\n",
    "print(\"List 1 : \",listl)\n",
    "print(\"list 2 : \",list2)"
   ]
  },
  {
   "cell_type": "markdown",
   "id": "bb4e47a0",
   "metadata": {},
   "source": [
    "### 4) range() FUNCTION\n"
   ]
  },
  {
   "cell_type": "markdown",
   "id": "12f7aa0e",
   "metadata": {},
   "source": [
    "#### Using range function to create a list"
   ]
  },
  {
   "cell_type": "code",
   "execution_count": 15,
   "id": "407b3924",
   "metadata": {},
   "outputs": [
    {
     "name": "stdout",
     "output_type": "stream",
     "text": [
      "[0, 1, 2, 3, 4, 5, 6, 7, 8, 9]\n"
     ]
    }
   ],
   "source": [
    "my_list=list(range(10)) \n",
    "print(my_list)"
   ]
  },
  {
   "cell_type": "code",
   "execution_count": 16,
   "id": "74273764",
   "metadata": {},
   "outputs": [
    {
     "name": "stdout",
     "output_type": "stream",
     "text": [
      "[2, 4, 6, 8]\n"
     ]
    }
   ],
   "source": [
    "my_list=list(range(2,10,2))\n",
    "print(my_list)"
   ]
  },
  {
   "cell_type": "markdown",
   "id": "6f7a1fe7",
   "metadata": {},
   "source": [
    "#### To generate decresing numers using range make the step negative"
   ]
  },
  {
   "cell_type": "code",
   "execution_count": 17,
   "id": "fe45e50f",
   "metadata": {},
   "outputs": [
    {
     "name": "stdout",
     "output_type": "stream",
     "text": [
      "[15, 13, 11, 9, 7]\n"
     ]
    }
   ],
   "source": [
    "our_list=list(range(15,5,-2))\n",
    "print(our_list)"
   ]
  },
  {
   "cell_type": "markdown",
   "id": "343bb63f",
   "metadata": {},
   "source": [
    "### 5) BUILT-IN FUNCTIONS IN LIST\n"
   ]
  },
  {
   "cell_type": "code",
   "execution_count": 18,
   "id": "1792f56a",
   "metadata": {},
   "outputs": [
    {
     "name": "stdout",
     "output_type": "stream",
     "text": [
      "Elements in the list :  [2, 5, 8, 11, 14, 17, 20, 23, 26, 29]\n",
      "Sum of the elements :  155\n",
      "Length of the list :  10\n",
      "Maximum element in the list :  29\n",
      "Minimum element in the list :  2\n",
      "Ch|ecking if the list is empty :  True\n"
     ]
    }
   ],
   "source": [
    "my_list=list(range(2,30,3)) \n",
    "print(\"Elements in the list : \",my_list) \n",
    "print(\"Sum of the elements : \",sum(my_list)) \n",
    "print(\"Length of the list : \",len(my_list)) \n",
    "print(\"Maximum element in the list : \",max(my_list)) \n",
    "print(\"Minimum element in the list : \",min(my_list)) \n",
    "print(\"Ch|ecking if the list is empty : \",any(my_list))"
   ]
  },
  {
   "cell_type": "markdown",
   "id": "0c6d6687",
   "metadata": {},
   "source": [
    "### 6) LIST COMPREHENSION\n"
   ]
  },
  {
   "cell_type": "markdown",
   "id": "d29bab51",
   "metadata": {},
   "source": [
    "#### Genrating squares of first 10 numers"
   ]
  },
  {
   "cell_type": "code",
   "execution_count": 19,
   "id": "fc905bb0",
   "metadata": {},
   "outputs": [
    {
     "name": "stdout",
     "output_type": "stream",
     "text": [
      "[0, 1, 4, 9, 16, 25, 36, 49, 64, 81]\n"
     ]
    }
   ],
   "source": [
    "my_list=[i**2 for i in range(10)] \n",
    "print(my_list)"
   ]
  },
  {
   "cell_type": "markdown",
   "id": "641bc5fb",
   "metadata": {},
   "source": [
    "#### Generating cube of first 10 numbers"
   ]
  },
  {
   "cell_type": "code",
   "execution_count": 20,
   "id": "f8d67a9f",
   "metadata": {},
   "outputs": [
    {
     "name": "stdout",
     "output_type": "stream",
     "text": [
      "[0, 1, 8, 27, 64, 125, 216, 343, 512, 729]\n"
     ]
    }
   ],
   "source": [
    "our_list=[i**3 for i in range(10)] \n",
    "print(our_list)"
   ]
  },
  {
   "cell_type": "markdown",
   "id": "a899a553",
   "metadata": {},
   "source": [
    "### 7) LISTS OF LISTS\n"
   ]
  },
  {
   "cell_type": "code",
   "execution_count": 21,
   "id": "ef79659e",
   "metadata": {},
   "outputs": [
    {
     "name": "stdout",
     "output_type": "stream",
     "text": [
      "[2, 5, 6, [3, 4]]\n"
     ]
    }
   ],
   "source": [
    "my_list=[2,5,6,[3,4]]\n",
    "print(my_list)"
   ]
  },
  {
   "cell_type": "code",
   "execution_count": 22,
   "id": "645627c3",
   "metadata": {},
   "outputs": [
    {
     "name": "stdout",
     "output_type": "stream",
     "text": [
      "[2, 5, 6, [3, ['java', 'python']]]\n"
     ]
    }
   ],
   "source": [
    "my_list=[2,5,6,[3,[\"java\",\"python\"]]] \n",
    "print(my_list)"
   ]
  },
  {
   "cell_type": "markdown",
   "id": "6875c44b",
   "metadata": {},
   "source": [
    "### 8) LIST INDEXING \n"
   ]
  },
  {
   "cell_type": "code",
   "execution_count": 23,
   "id": "78bdb01d",
   "metadata": {},
   "outputs": [
    {
     "name": "stdout",
     "output_type": "stream",
     "text": [
      "java\n",
      "flutter\n",
      "c-plus-plus\n"
     ]
    }
   ],
   "source": [
    "my_list=[\"java\",\"flutter\",\"python\",\"c-plus-plus\"] \n",
    "print(my_list[0])\t#\teLement\tat\t0th\tindex\ti.e.\"java\"\n",
    "print(my_list[1])\t#\teLement\tat\t1st\tindex\ti.e.\"fLutter\"\n",
    "print(my_list[3])\t#\teLement\tat\t3rd\tindex\ti.e.\"c-pLus-pLus\""
   ]
  },
  {
   "cell_type": "code",
   "execution_count": 24,
   "id": "c869fb45",
   "metadata": {},
   "outputs": [
    {
     "name": "stdout",
     "output_type": "stream",
     "text": [
      "5\n",
      "[3, ['java', 'python', 'flutter']]\n",
      "['java', 'python', 'flutter']\n"
     ]
    }
   ],
   "source": [
    "my_list=[2,5,6,[3,[\"java\",\"python\",\"flutter\"]]] \n",
    "print(my_list[1]) # eLement at 1st index i.e. 5 \n",
    "print(my_list[3]) # List at 3rd index \n",
    "print(my_list[3][1])# nested List at 1st index"
   ]
  },
  {
   "cell_type": "markdown",
   "id": "16a21a0d",
   "metadata": {},
   "source": [
    "### 9) LIST SLICING \n"
   ]
  },
  {
   "cell_type": "code",
   "execution_count": 25,
   "id": "c27dc722",
   "metadata": {},
   "outputs": [
    {
     "name": "stdout",
     "output_type": "stream",
     "text": [
      "[7, 23]\n"
     ]
    }
   ],
   "source": [
    "my_list=[2,5,7,23,12,67,6,72,43]\n",
    "print(my_list[2:4]) "
   ]
  },
  {
   "cell_type": "code",
   "execution_count": 26,
   "id": "a53c825e",
   "metadata": {},
   "outputs": [
    {
     "name": "stdout",
     "output_type": "stream",
     "text": [
      "[2, 5, 7, 23]\n",
      "[23, 12, 67, 6, 72]\n"
     ]
    }
   ],
   "source": [
    "my_list=[2,5,7,23,12,67,6,72] \n",
    "print(my_list[:4]) \n",
    "print(my_list[3:])"
   ]
  },
  {
   "cell_type": "code",
   "execution_count": 27,
   "id": "89355eee",
   "metadata": {},
   "outputs": [
    {
     "name": "stdout",
     "output_type": "stream",
     "text": [
      "[5, 6, [3, ['java', 'python', 'flutter']]]\n",
      "['java', 'python']\n"
     ]
    }
   ],
   "source": [
    "my_list=[2,5,6,[3,[\"java\",\"python\",\"flutter\"]]] \n",
    "print(my_list[1:4])  \n",
    "print(my_list[3][1][:2])"
   ]
  },
  {
   "cell_type": "markdown",
   "id": "e3f1800b",
   "metadata": {},
   "source": [
    "# PYTHON TUPLES"
   ]
  },
  {
   "cell_type": "markdown",
   "id": "a6ba898a",
   "metadata": {},
   "source": [
    "### 2) BUILT-IN FUNCTIONS IN TUPLES"
   ]
  },
  {
   "cell_type": "code",
   "execution_count": 28,
   "id": "cbeb9c6a",
   "metadata": {},
   "outputs": [
    {
     "name": "stdout",
     "output_type": "stream",
     "text": [
      "Length of the tuple :  4\n",
      "Maximum element in the tuple :  43\n",
      "Minimum element in the tuple :  2\n",
      "Type of lis :  <class 'list'>\n",
      "After converting list to tuple :  <class 'tuple'>\n"
     ]
    }
   ],
   "source": [
    "tup=(2,43,2,12)\n",
    "print(\"Length of the tuple : \",len(tup))\n",
    "print(\"Maximum element in the tuple : \",max(tup)) \n",
    "print(\"Minimum element in the tuple : \",min(tup)) \n",
    "lis=[34,5,345,234,12]\n",
    "print(\"Type of lis : \",type(lis))\n",
    "lis=tuple(lis)\n",
    "print(\"After converting list to tuple : \",type(lis))"
   ]
  },
  {
   "cell_type": "markdown",
   "id": "feaae8d1",
   "metadata": {},
   "source": [
    "Repetition"
   ]
  },
  {
   "cell_type": "code",
   "execution_count": 29,
   "id": "3a484165",
   "metadata": {},
   "outputs": [
    {
     "name": "stdout",
     "output_type": "stream",
     "text": [
      " Ikusei  Ikusei  Ikusei  Ikusei  Ikusei \n",
      "('Python', '3ava', 'Python', '3ava', 'Python', '3ava')\n"
     ]
    }
   ],
   "source": [
    "tup=(\" Ikusei \")*5 \n",
    "print(tup) \n",
    "tup2=(\"Python\",\"3ava\")*3 \n",
    "print(tup2)"
   ]
  },
  {
   "cell_type": "markdown",
   "id": "1d8211f8",
   "metadata": {},
   "source": [
    "### 3) TUPLES VS LISTS"
   ]
  },
  {
   "cell_type": "code",
   "execution_count": 30,
   "id": "1ff2c40d",
   "metadata": {},
   "outputs": [
    {
     "name": "stdout",
     "output_type": "stream",
     "text": [
      "[1, 3, 5, 7, 9]\n",
      "(2, 4, 6, 8)\n"
     ]
    }
   ],
   "source": [
    "tup=(2,4,6,8) \n",
    "lis=[1,3,5,7] \n",
    "lis.append(9) \n",
    "print(lis) \n",
    "#tup.append(10) -> This line will return an error  \n",
    "print(tup)"
   ]
  },
  {
   "cell_type": "code",
   "execution_count": 31,
   "id": "1ed2c790",
   "metadata": {},
   "outputs": [
    {
     "name": "stdout",
     "output_type": "stream",
     "text": [
      "(2, 4, 6, 8, 10, 12, 14, 16)\n",
      "[1, 3, 5, 7, 9, 11, 13, 15]\n"
     ]
    }
   ],
   "source": [
    "tupl=(2,4,6,8) \n",
    "lisl=[1,3,5,7] \n",
    "tup2=(10,12,14,16) \n",
    "lis2=[9,11,13,15] \n",
    "tup3=tupl+tup2 \n",
    "lis3=lisl+lis2 \n",
    "print(tup3) \n",
    "print(lis3)"
   ]
  },
  {
   "cell_type": "markdown",
   "id": "72eab589",
   "metadata": {},
   "source": [
    "### 4) COMBINING TUPLES AND LISTS\n"
   ]
  },
  {
   "cell_type": "code",
   "execution_count": 32,
   "id": "5c805ffa",
   "metadata": {},
   "outputs": [
    {
     "name": "stdout",
     "output_type": "stream",
     "text": [
      "<class 'tuple'>\n",
      "Ikusei for future learning\n",
      "<class 'str'>\n"
     ]
    }
   ],
   "source": [
    "my_tuple=(\"Ikusei\",\"for\",\"future\",\"learning\") \n",
    "print(type(my_tuple))\n",
    "string=\" \".join(my_tuple) \n",
    "print(string) \n",
    "print(type(string))"
   ]
  },
  {
   "cell_type": "code",
   "execution_count": 33,
   "id": "f3f0a6bf",
   "metadata": {},
   "outputs": [
    {
     "name": "stdout",
     "output_type": "stream",
     "text": [
      "<class 'tuple'>\n",
      "['Ikusei for future learning', 'python data analysis Data visualization']\n",
      "<class 'str'>\n"
     ]
    }
   ],
   "source": [
    "my_list=[(\"Ikusei\",\"for\",\"future\",\"learning\"),\n",
    "              ( \"python\", \"data analysis\",\"Data visualization\")] \n",
    "print(type(my_tuple))\n",
    "string=str([\" \".join(tups) for tups in my_list]) \n",
    "print(string)\n",
    "print(type(string))"
   ]
  },
  {
   "cell_type": "markdown",
   "id": "75688130",
   "metadata": {},
   "source": [
    "# CONTROL STRUCTURES"
   ]
  },
  {
   "cell_type": "markdown",
   "id": "cbe22b22",
   "metadata": {},
   "source": [
    "### 1) CONDITIONALS\n"
   ]
  },
  {
   "cell_type": "code",
   "execution_count": 34,
   "id": "1acebec9",
   "metadata": {},
   "outputs": [
    {
     "name": "stdout",
     "output_type": "stream",
     "text": [
      "5\n",
      "equal to 5\n"
     ]
    }
   ],
   "source": [
    "a=int(input())\n",
    "if a==5:\n",
    "    print(\"equal to 5\") \n",
    "else:\n",
    "    print(\"No idea\")"
   ]
  },
  {
   "cell_type": "code",
   "execution_count": 35,
   "id": "27fa2c5f",
   "metadata": {},
   "outputs": [
    {
     "name": "stdout",
     "output_type": "stream",
     "text": [
      "6\n",
      "No idea\n"
     ]
    }
   ],
   "source": [
    "a=int(input())\n",
    "if a==5:\n",
    "    print(\"equal to 5\") \n",
    "else:\n",
    "    print(\"No idea\")"
   ]
  },
  {
   "cell_type": "code",
   "execution_count": 36,
   "id": "4ee2e136",
   "metadata": {},
   "outputs": [
    {
     "name": "stdout",
     "output_type": "stream",
     "text": [
      "4\n",
      "Smaller than 5\n"
     ]
    }
   ],
   "source": [
    "a=int(input())\n",
    "if a==5:\n",
    "    print(\"equal to 5\")\n",
    "elif a>5:\n",
    "    print(\"Greater than 5\")\n",
    "else:\n",
    "    print(\"Smaller than 5\")"
   ]
  },
  {
   "cell_type": "code",
   "execution_count": 37,
   "id": "d2269e68",
   "metadata": {},
   "outputs": [
    {
     "name": "stdout",
     "output_type": "stream",
     "text": [
      "7\n",
      "Greater than 5\n"
     ]
    }
   ],
   "source": [
    "a=int(input())\n",
    "if a==5:\n",
    "    print(\"equal to 5\")\n",
    "elif a>5:\n",
    "    print(\"Greater than 5\")\n",
    "else:\n",
    "    print(\"Smaller than 5\")"
   ]
  },
  {
   "cell_type": "code",
   "execution_count": 38,
   "id": "304dd477",
   "metadata": {},
   "outputs": [
    {
     "name": "stdout",
     "output_type": "stream",
     "text": [
      "33\n",
      "Greater than 5\n"
     ]
    }
   ],
   "source": [
    "a=int(input())\n",
    "if a==5:\n",
    "    print(\"equal to 5\")\n",
    "elif a>5:\n",
    "    print(\"Greater than 5\")\n",
    "else:\n",
    "    print(\"Smaller than 5\")"
   ]
  },
  {
   "cell_type": "code",
   "execution_count": 39,
   "id": "578a6a12",
   "metadata": {},
   "outputs": [
    {
     "name": "stdout",
     "output_type": "stream",
     "text": [
      "4\n",
      "even number\n"
     ]
    }
   ],
   "source": [
    "a=int(input()) \n",
    "if a==6:\n",
    "    print(\"equal to 6\") \n",
    "if a%2==0:\n",
    "    print(\"even number\") \n",
    "else:\n",
    "    print(\"odd number\")"
   ]
  },
  {
   "cell_type": "code",
   "execution_count": 40,
   "id": "7cbfc4ad",
   "metadata": {},
   "outputs": [
    {
     "name": "stdout",
     "output_type": "stream",
     "text": [
      "6\n",
      "equal to 6\n"
     ]
    }
   ],
   "source": [
    "a=int(input()) \n",
    "if a==6:\n",
    "    print(\"equal to 6\") \n",
    "elif a%2==0:\n",
    "    print(\"even number\") \n",
    "else:\n",
    "    print(\"odd number\")"
   ]
  },
  {
   "cell_type": "markdown",
   "id": "644eb998",
   "metadata": {},
   "source": [
    "# LOOPS"
   ]
  },
  {
   "cell_type": "markdown",
   "id": "45b9b2cd",
   "metadata": {},
   "source": [
    "### 2) FOR LOOPS\n"
   ]
  },
  {
   "cell_type": "code",
   "execution_count": 41,
   "id": "6ceb27af",
   "metadata": {},
   "outputs": [
    {
     "name": "stdout",
     "output_type": "stream",
     "text": [
      "Input the values in list : 435 345 34 534\n",
      "The list looks like :  435 345 34 534 "
     ]
    }
   ],
   "source": [
    "lis=list(input(\"Input the values in list : \").split(\" \")) \n",
    "print(\"The list looks like : \",end=\" \")\n",
    "for i in lis:\n",
    "    print(i,end=\" \")"
   ]
  },
  {
   "cell_type": "code",
   "execution_count": 42,
   "id": "606905f1",
   "metadata": {},
   "outputs": [
    {
     "name": "stdout",
     "output_type": "stream",
     "text": [
      "Input the values in list : 345435 34 534534\n",
      "The list looks like :  345435 34 534534 "
     ]
    }
   ],
   "source": [
    "lis=list(input(\"Input the values in list : \").split(\" \")) \n",
    "print(\"The list looks like : \",end=\" \")\n",
    "for i in range(len(lis)):\n",
    "    print(lis[i],end=\" \")"
   ]
  },
  {
   "cell_type": "markdown",
   "id": "6085aeb8",
   "metadata": {},
   "source": [
    "#### For Printing odd numers"
   ]
  },
  {
   "cell_type": "code",
   "execution_count": 43,
   "id": "4cbe7a8a",
   "metadata": {},
   "outputs": [
    {
     "name": "stdout",
     "output_type": "stream",
     "text": [
      "1 3 5 7 9 "
     ]
    }
   ],
   "source": [
    "for i in range(1,10,2):\n",
    "    print(i,end=\" \")"
   ]
  },
  {
   "cell_type": "markdown",
   "id": "ba32acdf",
   "metadata": {},
   "source": [
    "#### For printing even numers"
   ]
  },
  {
   "cell_type": "code",
   "execution_count": 44,
   "id": "f7f94c9f",
   "metadata": {},
   "outputs": [
    {
     "name": "stdout",
     "output_type": "stream",
     "text": [
      "2 4 6 8 10 "
     ]
    }
   ],
   "source": [
    "for i in range(2,11,2):\n",
    "    print(i,end=\" \")"
   ]
  },
  {
   "cell_type": "markdown",
   "id": "f322921a",
   "metadata": {},
   "source": [
    "### 3) while() LOOP\n"
   ]
  },
  {
   "cell_type": "code",
   "execution_count": 45,
   "id": "3ff59810",
   "metadata": {},
   "outputs": [
    {
     "name": "stdout",
     "output_type": "stream",
     "text": [
      "java\n",
      "pyhon\n",
      "c- plus-plus\n",
      "CSS\n"
     ]
    }
   ],
   "source": [
    "lis =[\"java\",\"pyhon\",\"c- plus-plus\",\"CSS\"] \n",
    "i=0\n",
    "while(i<len(lis)):\n",
    "    print(lis[i])\n",
    "    i=i+1"
   ]
  },
  {
   "cell_type": "code",
   "execution_count": 47,
   "id": "cb3e3f14",
   "metadata": {},
   "outputs": [
    {
     "name": "stdout",
     "output_type": "stream",
     "text": [
      "4\n",
      "4\n",
      "6\n",
      "6\n",
      "8\n",
      "8\n",
      "9\n"
     ]
    }
   ],
   "source": [
    "a=int(input())# taking integer as an input \n",
    "while(a%2==0):\n",
    "    print(a)\n",
    "    a=int(input())"
   ]
  },
  {
   "cell_type": "markdown",
   "id": "1b32eb53",
   "metadata": {},
   "source": [
    "### 4) USE OF “break” AND “continue” KEYWORDS. \n"
   ]
  },
  {
   "cell_type": "code",
   "execution_count": 48,
   "id": "1517c7b8",
   "metadata": {},
   "outputs": [
    {
     "name": "stdout",
     "output_type": "stream",
     "text": [
      "0 1 2 3 4 5 6 "
     ]
    }
   ],
   "source": [
    "lis=[i for i in range(10)] \n",
    "for x in lis:\n",
    "    print(x,end=\" \")\n",
    "    if x>5:\n",
    "        break"
   ]
  },
  {
   "cell_type": "code",
   "execution_count": 49,
   "id": "7ac8bca0",
   "metadata": {},
   "outputs": [
    {
     "name": "stdout",
     "output_type": "stream",
     "text": [
      "1 2 3 5 6 7 9 "
     ]
    }
   ],
   "source": [
    "lis=list(range(10))\n",
    "for x in lis:\n",
    "    if x%4==0: \n",
    "        continue \n",
    "    print(x,end=\" \")"
   ]
  },
  {
   "cell_type": "markdown",
   "id": "467579f2",
   "metadata": {},
   "source": [
    "### 5) NESTED LOOPS\n"
   ]
  },
  {
   "cell_type": "code",
   "execution_count": null,
   "id": "590c6fb1",
   "metadata": {},
   "outputs": [],
   "source": [
    "lis=[[1,2,3],[4,5,6], [7,8^9]]\n",
    "for i in range(3):\n",
    "    for j in range(3):\n",
    "        print(lis[i][j],end=\" \"\") print(\"\\n”)"
   ]
  }
 ],
 "metadata": {
  "kernelspec": {
   "display_name": "Python 3 (ipykernel)",
   "language": "python",
   "name": "python3"
  },
  "language_info": {
   "codemirror_mode": {
    "name": "ipython",
    "version": 3
   },
   "file_extension": ".py",
   "mimetype": "text/x-python",
   "name": "python",
   "nbconvert_exporter": "python",
   "pygments_lexer": "ipython3",
   "version": "3.9.6"
  }
 },
 "nbformat": 4,
 "nbformat_minor": 5
}
